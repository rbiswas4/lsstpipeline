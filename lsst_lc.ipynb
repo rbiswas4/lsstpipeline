{
 "metadata": {
  "name": "",
  "signature": "sha256:a92612c4e54ffc014736c4d997a66ea834fb1fed7f5db3594be0a955afd60836"
 },
 "nbformat": 3,
 "nbformat_minor": 0,
 "worksheets": [
  {
   "cells": [
    {
     "cell_type": "heading",
     "level": 1,
     "metadata": {},
     "source": [
      "Study realize_lcs with selection of observtions"
     ]
    },
    {
     "cell_type": "markdown",
     "metadata": {},
     "source": [
      "Look at how realize_lcs behaves when we select observations from a observations table, such that a SN is only observed within \n",
      "a phase window of its maximum light"
     ]
    },
    {
     "cell_type": "code",
     "collapsed": true,
     "input": [
      "import sncosmo\n",
      "import simulate_lsst as sl\n",
      "import numpy as np\n",
      "from numpy.random import normal, uniform\n",
      "from astropy.table import Table\n",
      "%matplotlib inline"
     ],
     "language": "python",
     "metadata": {},
     "outputs": [],
     "prompt_number": 1
    },
    {
     "cell_type": "code",
     "collapsed": true,
     "input": [
      "print \"sncosmo version : \", sncosmo.__version__"
     ],
     "language": "python",
     "metadata": {},
     "outputs": [
      {
       "output_type": "stream",
       "stream": "stdout",
       "text": [
        "sncosmo version :  0.5.dev38\n"
       ]
      }
     ],
     "prompt_number": 2
    },
    {
     "cell_type": "heading",
     "level": 3,
     "metadata": {},
     "source": [
      "Boilerplate"
     ]
    },
    {
     "cell_type": "markdown",
     "metadata": {},
     "source": [
      "The basis of the simulation is a \"SIMLIB\" file which is a list of observations in a particular field of the sky. This simlib file is therefore created from either the OPSIMs output (which is a database of observations made over the course of the survey) or from OpsimObs (which is a time ordered set of observations) made across the survey for Deep Drilling fields for a particular strategy.\n",
      "\n",
      "I have included code for going from OpsimObs output to simlib file, but \n",
      "we decided to actually use Opsim ouputs. This still needs work on my (Rahul) part, and so we will use a simlib file right away"
     ]
    },
    {
     "cell_type": "code",
     "collapsed": true,
     "input": [
      "simlibfilename = 'cache/RBtest_opsim.simlib'\n",
      "lcs = sl.simulate_simlib(simlibfilename, snmodelsource='salt2-extended', outfile='LC/lcs')\n",
      "# set up bandpasses for LSST\n",
      "sl.getlsstbandpassobjs(plot=True)"
     ],
     "language": "python",
     "metadata": {},
     "outputs": [
      {
       "output_type": "stream",
       "stream": "stdout",
       "text": [
        "num SN generated  600\n",
        "realizing SN"
       ]
      },
      {
       "output_type": "stream",
       "stream": "stdout",
       "text": [
        "\n",
        "num SN generated "
       ]
      },
      {
       "output_type": "stream",
       "stream": "stdout",
       "text": [
        " 400\n",
        "realizing SN\n"
       ]
      },
      {
       "metadata": {},
       "output_type": "display_data",
       "png": "[encoded data removed]",
       "text": [
        "<matplotlib.figure.Figure at 0x108d37e10>"
       ]
      }
     ],
     "prompt_number": 3
    },
    {
     "cell_type": "code",
     "collapsed": false,
     "input": [
      "lc = lcs[0][0]\n",
      "bandgroups = lc.group_by('band')"
     ],
     "language": "python",
     "metadata": {},
     "outputs": [],
     "prompt_number": 41
    },
    {
     "cell_type": "code",
     "collapsed": false,
     "input": [
      "import pandas as pd\n",
      "basicdata = np.asarray(lc)\n",
      "df = pd.DataFrame(basicdata)"
     ],
     "language": "python",
     "metadata": {},
     "outputs": [],
     "prompt_number": 24
    },
    {
     "cell_type": "code",
     "collapsed": false,
     "input": [
      "grouped = df.groupby('band')\n",
      "presentbands = grouped.groups.keys()\n",
      "print presentbands\n",
      "bandlcs = []\n",
      "for band in presentbands:\n",
      "    bandlc.append(df.loc[grouped.groups[band]])"
     ],
     "language": "python",
     "metadata": {},
     "outputs": [
      {
       "output_type": "stream",
       "stream": "stdout",
       "text": [
        "['LSST_i', 'LSST_Y', 'LSST_r', 'LSST_z', 'LSST_g']\n"
       ]
      }
     ],
     "prompt_number": 34
    },
    {
     "cell_type": "code",
     "collapsed": false,
     "input": [
      "type(grouped)"
     ],
     "language": "python",
     "metadata": {},
     "outputs": [
      {
       "metadata": {},
       "output_type": "pyout",
       "prompt_number": 36,
       "text": [
        "pandas.core.groupby.DataFrameGroupBy"
       ]
      }
     ],
     "prompt_number": 36
    },
    {
     "cell_type": "code",
     "collapsed": false,
     "input": [
      "bandgroups.groups[0]['flux']/bandgroups.groups[0]['fluxerr']"
     ],
     "language": "python",
     "metadata": {},
     "outputs": [
      {
       "metadata": {},
       "output_type": "pyout",
       "prompt_number": 52,
       "text": [
        "<Column name='flux' unit=None format=None description=None>\n",
        "array([ -0.69455495,   6.42385916,   9.70702626,   9.56917989,\n",
        "        14.11061434,  15.31666619,  20.22703191,  21.45688154,\n",
        "        22.76349185,  22.45806895,  23.42170548,  12.35637106,\n",
        "        11.67718185,  10.17612999,  12.31989069,  10.74463824,\n",
        "         8.70715788,   8.32469129,   5.91729104,   7.4330421 ,\n",
        "         7.49985075,   6.55806176,   5.22695896,   4.28316241,\n",
        "         3.80866546,   4.87517364,   4.56074493,   3.80624117,\n",
        "         2.80733046,   2.8971045 ])"
       ]
      }
     ],
     "prompt_number": 52
    },
    {
     "cell_type": "code",
     "collapsed": false,
     "input": [
      "map(lambda xx: max(xx['flux'] / xx['fluxerr']), bandgroups.groups)"
     ],
     "language": "python",
     "metadata": {},
     "outputs": [
      {
       "metadata": {},
       "output_type": "pyout",
       "prompt_number": 62,
       "text": [
        "[23.42170548347292,\n",
        " 79.628603863430328,\n",
        " 144.91344935939708,\n",
        " 175.77098018743922,\n",
        " 107.04256125099867]"
       ]
      }
     ],
     "prompt_number": 62
    },
    {
     "cell_type": "code",
     "collapsed": false,
     "input": [
      "map(lambda y: y+2, [0.,1.,2.])"
     ],
     "language": "python",
     "metadata": {},
     "outputs": [
      {
       "metadata": {},
       "output_type": "pyout",
       "prompt_number": 60,
       "text": [
        "[2.0, 3.0, 4.0]"
       ]
      }
     ],
     "prompt_number": 60
    },
    {
     "cell_type": "code",
     "collapsed": true,
     "input": [
      "#Read the simlib file, get the libids which index different fields\n",
      "meta, obstables = sncosmo.read_snana_simlib(simlibfilename)\n",
      "print \"META\\n\"\n",
      "print meta\n",
      "print \"\\n\\n OBSTABLE LIBIDS \\n\"\n",
      "print obstables.keys()"
     ],
     "language": "python",
     "metadata": {},
     "outputs": [
      {
       "output_type": "stream",
       "stream": "stdout",
       "text": [
        "META\n",
        "\n",
        "OrderedDict([('SURVEY', 'LSST'), ('FILTERS', 'ugrizY'), ('TELESCOPE', 'LSST'), ('USER', 'cinabro'), ('HOST', 'motor1'), ('COMMENT', 'LSST \\x00\\x00\\x00\\x00'), ('END_OF_SIMLIB', '2 ENTRIES')])\n",
        "\n",
        "\n",
        " OBSTABLE LIBIDS \n",
        "\n",
        "[519, 1427]\n"
       ]
      }
     ],
     "prompt_number": 63
    },
    {
     "cell_type": "code",
     "collapsed": false,
     "input": [
      "type(obstables.keys()[0])"
     ],
     "language": "python",
     "metadata": {},
     "outputs": [
      {
       "metadata": {},
       "output_type": "pyout",
       "prompt_number": 66,
       "text": [
        "int"
       ]
      }
     ],
     "prompt_number": 66
    },
    {
     "cell_type": "code",
     "collapsed": true,
     "input": [
      "#Choose a field: for example the one indexed by 519\n",
      "minmjd = obstables[519]['MJD'].min()\n",
      "maxmjd = obstables[519]['MJD'].max()\n",
      "obstable = obstables[519]\n",
      "print \"Number of observations in obstable: \", len(obstable)\n",
      "print \"min and max MJD in the set: \", minmjd, maxmjd"
     ],
     "language": "python",
     "metadata": {},
     "outputs": [
      {
       "output_type": "stream",
       "stream": "stdout",
       "text": [
        "Number of observations in obstable:  18279\n",
        "min and max MJD in the set:  49353.11458 54827.13317\n"
       ]
      }
     ],
     "prompt_number": 31
    },
    {
     "cell_type": "code",
     "collapsed": true,
     "input": [
      "#Set SNCosmo model and set its t0 aritificially to values I know are in the above table\n",
      "model = sncosmo.Model(source='salt2-extended')\n",
      "params = []\n",
      "# For a longer /complete answer, we will not set the z by hand, we will \n",
      "# draw from a distribution, but we are just doing one SN. So this is a\n",
      "# good way\n",
      "for z in [0.7,0.3]:\n",
      "    mabs = normal(-19.3, 0.3)\n",
      "    print 'mabs', mabs\n",
      "    model.set(z=z)\n",
      "    model.set_source_peakabsmag(mabs, 'bessellb', 'ab')\n",
      "    \n",
      "    # RB: really should not be min, max but done like in catalogs\n",
      "    p = {'z':z, 't0': uniform(minmjd, maxmjd), 'x1': normal(0., 1.), 'c': normal(0., 0.1)}\n",
      "    x0 = model.get('x0')\n",
      "    p['x0']=x0\n",
      "    p['t0']= 50000.\n",
      "    params.append(p)\n",
      "params[1]['t0'] = 50100.\n",
      "print params[0]['t0']\n",
      "print params[1]['t0']"
     ],
     "language": "python",
     "metadata": {},
     "outputs": [
      {
       "output_type": "stream",
       "stream": "stdout",
       "text": [
        "mabs -19.4123289074\n",
        "mabs -19.4625765966\n",
        "50000.0\n",
        "50100.0\n"
       ]
      }
     ],
     "prompt_number": 32
    },
    {
     "cell_type": "code",
     "collapsed": true,
     "input": [
      "print model # This is the second model"
     ],
     "language": "python",
     "metadata": {},
     "outputs": [
      {
       "output_type": "stream",
       "stream": "stdout",
       "text": [
        "<Model at 0x10ac495d0>\n",
        "source:\n",
        "  class      : SALT2Source\n",
        "  name       : 'salt2-extended'\n",
        "  version    : 1.0\n",
        "  phases     : [-20, .., 50] days\n",
        "  wavelengths: [300, .., 18000] Angstroms\n",
        "parameters:\n",
        "  z  = 0.29999999999999999\n",
        "  t0 = 0.0\n",
        "  x0 = 3.9247137120262741e-05\n",
        "  x1 = 0.0\n",
        "  c  = 0.0\n"
       ]
      }
     ],
     "prompt_number": 33
    },
    {
     "cell_type": "code",
     "collapsed": false,
     "input": [
      "def prefixbandname(prefix, obstable):\n",
      "    \n",
      "    _bb = np.array(obstable['FLT'])\n",
      "    _lsst = np.array([prefix]*len(_bb), dtype='S6')\n",
      "    return map ( ''.join, zip(_lsst,_bb))"
     ],
     "language": "python",
     "metadata": {},
     "outputs": [],
     "prompt_number": 34
    },
    {
     "cell_type": "code",
     "collapsed": true,
     "input": [
      "# Manipulate Obstable to form we can use for SNCosmo realize_lcs\n",
      "# Should make a function using this for future\n",
      "col = Table.Column(obstable['SEARCH'].size*['ab'], name='zpsys')\n",
      "obstable['MJD'].name =  'time'\n",
      "obstable['ZPTAVG'].name =  'zp'\n",
      "obstable['CCD_GAIN'].name =  'gain'\n",
      "obstable['SKYSIG'].name =  'skynoise'\n",
      "obstable.add_column(col)\n",
      "col = Table.Column(prefixbandname(\"LSST_\", obstable), name='band')\n",
      "obstable.add_column(col)                   "
     ],
     "language": "python",
     "metadata": {},
     "outputs": [],
     "prompt_number": 35
    },
    {
     "cell_type": "code",
     "collapsed": true,
     "input": [
      "# Now display the table of observations\n",
      "obstable"
     ],
     "language": "python",
     "metadata": {},
     "outputs": [
      {
       "html": [
        "<table id=\"table4434370256\"><thead><tr><th>SEARCH</th><th>time</th><th>IDEXPT</th><th>FLT</th><th>gain</th><th>CCD_NOISE</th><th>skynoise</th><th>PSF1</th><th>PSF2</th><th>PSFRATIO</th><th>zp</th><th>ZPTSIG</th><th>MAG</th><th>zpsys</th><th>band</th></tr></thead><tr><td>True</td><td>49353.13317</td><td>10519</td><td>g</td><td>1.0</td><td>0.25</td><td>260.07</td><td>2.13</td><td>0.0</td><td>0.0</td><td>35.34</td><td>0.005</td><td>-99.0</td><td>ab</td><td>LSST_g</td></tr><tr><td>True</td><td>49353.17576</td><td>10519</td><td>g</td><td>1.0</td><td>0.25</td><td>197.0</td><td>2.1</td><td>0.0</td><td>0.0</td><td>34.57</td><td>0.005</td><td>-99.0</td><td>ab</td><td>LSST_g</td></tr><tr><td>True</td><td>49353.12388</td><td>10519</td><td>r</td><td>1.0</td><td>0.25</td><td>218.39</td><td>1.97</td><td>0.0</td><td>0.0</td><td>35.17</td><td>0.005</td><td>-99.0</td><td>ab</td><td>LSST_r</td></tr><tr><td>True</td><td>49353.16647</td><td>10519</td><td>r</td><td>1.0</td><td>0.25</td><td>226.03</td><td>2.28</td><td>0.0</td><td>0.0</td><td>35.16</td><td>0.005</td><td>-99.0</td><td>ab</td><td>LSST_r</td></tr><tr><td>True</td><td>49353.11458</td><td>10519</td><td>i</td><td>1.0</td><td>0.25</td><td>226.96</td><td>1.71</td><td>0.0</td><td>0.0</td><td>34.85</td><td>0.005</td><td>-99.0</td><td>ab</td><td>LSST_i</td></tr><tr><td>True</td><td>49353.15718</td><td>10519</td><td>i</td><td>1.0</td><td>0.25</td><td>233.05</td><td>2.44</td><td>0.0</td><td>0.0</td><td>34.86</td><td>0.005</td><td>-99.0</td><td>ab</td><td>LSST_i</td></tr><tr><td>True</td><td>49353.14788</td><td>10519</td><td>z</td><td>1.0</td><td>0.25</td><td>226.19</td><td>1.99</td><td>0.0</td><td>0.0</td><td>34.47</td><td>0.005</td><td>-99.0</td><td>ab</td><td>LSST_z</td></tr><tr><td>True</td><td>49353.14252</td><td>10519</td><td>Y</td><td>1.0</td><td>0.25</td><td>173.13</td><td>1.88</td><td>0.0</td><td>0.0</td><td>32.8</td><td>0.005</td><td>-99.0</td><td>ab</td><td>LSST_Y</td></tr><tr><td>True</td><td>49354.13317</td><td>10519</td><td>g</td><td>1.0</td><td>0.25</td><td>207.56</td><td>1.89</td><td>0.0</td><td>0.0</td><td>35.33</td><td>0.005</td><td>-99.0</td><td>ab</td><td>LSST_g</td></tr><tr><td>True</td><td>49354.17576</td><td>10519</td><td>g</td><td>1.0</td><td>0.25</td><td>162.93</td><td>2.07</td><td>0.0</td><td>0.0</td><td>34.56</td><td>0.005</td><td>-99.0</td><td>ab</td><td>LSST_g</td></tr><tr><td>True</td><td>49354.12388</td><td>10519</td><td>r</td><td>1.0</td><td>0.25</td><td>187.94</td><td>1.73</td><td>0.0</td><td>0.0</td><td>35.16</td><td>0.005</td><td>-99.0</td><td>ab</td><td>LSST_r</td></tr><tr><td>...</td><td>...</td><td>...</td><td>...</td><td>...</td><td>...</td><td>...</td><td>...</td><td>...</td><td>...</td><td>...</td><td>...</td><td>...</td><td>...</td><td>...</td></tr><tr><td>True</td><td>54824.12388</td><td>10519</td><td>r</td><td>1.0</td><td>0.25</td><td>123.25</td><td>1.2</td><td>0.0</td><td>0.0</td><td>35.16</td><td>0.005</td><td>-99.0</td><td>ab</td><td>LSST_r</td></tr><tr><td>True</td><td>54824.11458</td><td>10519</td><td>i</td><td>1.0</td><td>0.25</td><td>172.45</td><td>1.19</td><td>0.0</td><td>0.0</td><td>34.85</td><td>0.005</td><td>-99.0</td><td>ab</td><td>LSST_i</td></tr><tr><td>True</td><td>54825.13317</td><td>10519</td><td>g</td><td>1.0</td><td>0.25</td><td>100.79</td><td>1.78</td><td>0.0</td><td>0.0</td><td>35.32</td><td>0.005</td><td>-99.0</td><td>ab</td><td>LSST_g</td></tr><tr><td>True</td><td>54825.12388</td><td>10519</td><td>r</td><td>1.0</td><td>0.25</td><td>122.55</td><td>1.87</td><td>0.0</td><td>0.0</td><td>35.15</td><td>0.005</td><td>-99.0</td><td>ab</td><td>LSST_r</td></tr><tr><td>True</td><td>54825.11458</td><td>10519</td><td>i</td><td>1.0</td><td>0.25</td><td>172.69</td><td>1.74</td><td>0.0</td><td>0.0</td><td>34.85</td><td>0.005</td><td>-99.0</td><td>ab</td><td>LSST_i</td></tr><tr><td>True</td><td>54826.13317</td><td>10519</td><td>g</td><td>1.0</td><td>0.25</td><td>100.58</td><td>1.79</td><td>0.0</td><td>0.0</td><td>35.32</td><td>0.005</td><td>-99.0</td><td>ab</td><td>LSST_g</td></tr><tr><td>True</td><td>54826.12388</td><td>10519</td><td>r</td><td>1.0</td><td>0.25</td><td>122.85</td><td>1.76</td><td>0.0</td><td>0.0</td><td>35.15</td><td>0.005</td><td>-99.0</td><td>ab</td><td>LSST_r</td></tr><tr><td>True</td><td>54826.11458</td><td>10519</td><td>i</td><td>1.0</td><td>0.25</td><td>173.61</td><td>1.43</td><td>0.0</td><td>0.0</td><td>34.86</td><td>0.005</td><td>-99.0</td><td>ab</td><td>LSST_i</td></tr><tr><td>True</td><td>54827.13317</td><td>10519</td><td>g</td><td>1.0</td><td>0.25</td><td>100.58</td><td>1.33</td><td>0.0</td><td>0.0</td><td>35.32</td><td>0.005</td><td>-99.0</td><td>ab</td><td>LSST_g</td></tr><tr><td>True</td><td>54827.12388</td><td>10519</td><td>r</td><td>1.0</td><td>0.25</td><td>122.56</td><td>1.2</td><td>0.0</td><td>0.0</td><td>35.15</td><td>0.005</td><td>-99.0</td><td>ab</td><td>LSST_r</td></tr><tr><td>True</td><td>54827.11458</td><td>10519</td><td>i</td><td>1.0</td><td>0.25</td><td>173.34</td><td>1.1</td><td>0.0</td><td>0.0</td><td>34.86</td><td>0.005</td><td>-99.0</td><td>ab</td><td>LSST_i</td></tr></table>"
       ],
       "metadata": {},
       "output_type": "pyout",
       "prompt_number": 36,
       "text": [
        "<Table rows=18279 names=('SEARCH','time','IDEXPT','FLT','gain','CCD_NOISE','skynoise','PSF1','PSF2','PSFRATIO','zp','ZPTSIG','MAG','zpsys','band')>\n",
        "array([ (True, 49353.13317, 10519, 'g', 1.0, 0.25, 260.07, 2.13, 0.0, 0.0, 35.34, 0.005, -99.0, 'ab', 'LSST_g'),\n",
        "       (True, 49353.17576, 10519, 'g', 1.0, 0.25, 197.0, 2.1, 0.0, 0.0, 34.57, 0.005, -99.0, 'ab', 'LSST_g'),\n",
        "       (True, 49353.12388, 10519, 'r', 1.0, 0.25, 218.39, 1.97, 0.0, 0.0, 35.17, 0.005, -99.0, 'ab', 'LSST_r'),\n",
        "       ...,\n",
        "       (True, 54827.13317, 10519, 'g', 1.0, 0.25, 100.58, 1.33, 0.0, 0.0, 35.32, 0.005, -99.0, 'ab', 'LSST_g'),\n",
        "       (True, 54827.12388, 10519, 'r', 1.0, 0.25, 122.56, 1.2, 0.0, 0.0, 35.15, 0.005, -99.0, 'ab', 'LSST_r'),\n",
        "       (True, 54827.11458, 10519, 'i', 1.0, 0.25, 173.34, 1.1, 0.0, 0.0, 34.86, 0.005, -99.0, 'ab', 'LSST_i')], \n",
        "      dtype=[('SEARCH', '?'), ('time', '<f8'), ('IDEXPT', '<i8'), ('FLT', 'S1'), ('gain', '<f8'), ('CCD_NOISE', '<f8'), ('skynoise', '<f8'), ('PSF1', '<f8'), ('PSF2', '<f8'), ('PSFRATIO', '<f8'), ('zp', '<f8'), ('ZPTSIG', '<f8'), ('MAG', '<f8'), ('zpsys', 'S2'), ('band', 'S6')])"
       ]
      }
     ],
     "prompt_number": 36
    },
    {
     "cell_type": "heading",
     "level": 3,
     "metadata": {},
     "source": [
      "Simulate the SN, plot and profile"
     ]
    },
    {
     "cell_type": "code",
     "collapsed": true,
     "input": [
      "relevantdata = sncosmo.realize_lcs(obstable, model, params, trim_observations=True)"
     ],
     "language": "python",
     "metadata": {},
     "outputs": [],
     "prompt_number": 11
    },
    {
     "cell_type": "code",
     "collapsed": true,
     "input": [
      "from astropy.table import Table\n",
      "print type(relevantdata)"
     ],
     "language": "python",
     "metadata": {},
     "outputs": [
      {
       "output_type": "stream",
       "stream": "stdout",
       "text": [
        "<type 'list'>\n"
       ]
      }
     ],
     "prompt_number": 12
    },
    {
     "cell_type": "code",
     "collapsed": true,
     "input": [
      "x = Table(relevantdata[0])"
     ],
     "language": "python",
     "metadata": {},
     "outputs": [],
     "prompt_number": 13
    },
    {
     "cell_type": "code",
     "collapsed": true,
     "input": [
      "x"
     ],
     "language": "python",
     "metadata": {},
     "outputs": [
      {
       "html": [
        "<table id=\"table4434367952\"><thead><tr><th>time</th><th>band</th><th>flux</th><th>fluxerr</th><th>zp</th><th>zpsys</th></tr></thead><tr><td>49966.13317</td><td>LSST_g</td><td>-55.7404179344</td><td>350.090030477</td><td>34.65</td><td>ab</td></tr><tr><td>49966.17576</td><td>LSST_g</td><td>86.0872723842</td><td>247.780032246</td><td>34.16</td><td>ab</td></tr><tr><td>49966.12388</td><td>LSST_r</td><td>-620.774151995</td><td>328.28008684</td><td>34.76</td><td>ab</td></tr><tr><td>49966.16647</td><td>LSST_r</td><td>818.093348896</td><td>308.440253427</td><td>34.91</td><td>ab</td></tr><tr><td>49966.11458</td><td>LSST_i</td><td>14.9019842631</td><td>350.85018006</td><td>34.52</td><td>ab</td></tr><tr><td>49966.15718</td><td>LSST_i</td><td>-132.845617795</td><td>325.600228569</td><td>34.65</td><td>ab</td></tr><tr><td>49966.14788</td><td>LSST_z</td><td>-17.7313470823</td><td>335.860165736</td><td>34.33</td><td>ab</td></tr><tr><td>49966.14252</td><td>LSST_Y</td><td>-332.18915187</td><td>215.040038377</td><td>32.24</td><td>ab</td></tr><tr><td>49967.13317</td><td>LSST_g</td><td>-802.610837183</td><td>423.480337536</td><td>34.66</td><td>ab</td></tr><tr><td>49967.12388</td><td>LSST_r</td><td>417.928826074</td><td>375.163269106</td><td>34.76</td><td>ab</td></tr><tr><td>49967.15182</td><td>LSST_r</td><td>-328.310913691</td><td>361.375889981</td><td>34.86</td><td>ab</td></tr><tr><td>...</td><td>...</td><td>...</td><td>...</td><td>...</td><td>...</td></tr><tr><td>50082.14252</td><td>LSST_Y</td><td>436.737059082</td><td>173.135134928</td><td>32.78</td><td>ab</td></tr><tr><td>50083.13317</td><td>LSST_g</td><td>-368.217564242</td><td>266.579917669</td><td>35.33</td><td>ab</td></tr><tr><td>50083.12388</td><td>LSST_r</td><td>673.365019353</td><td>223.751833871</td><td>35.16</td><td>ab</td></tr><tr><td>50083.15182</td><td>LSST_r</td><td>820.53625458</td><td>223.949366726</td><td>35.16</td><td>ab</td></tr><tr><td>50083.11458</td><td>LSST_i</td><td>1689.6995133</td><td>235.387956755</td><td>34.86</td><td>ab</td></tr><tr><td>50083.14252</td><td>LSST_i</td><td>1614.92705181</td><td>235.464828565</td><td>34.85</td><td>ab</td></tr><tr><td>50084.13317</td><td>LSST_g</td><td>-6.54582274887</td><td>311.200020611</td><td>35.34</td><td>ab</td></tr><tr><td>50084.12388</td><td>LSST_r</td><td>971.664725084</td><td>250.141694566</td><td>35.16</td><td>ab</td></tr><tr><td>50084.15182</td><td>LSST_r</td><td>622.922472187</td><td>251.731444891</td><td>35.16</td><td>ab</td></tr><tr><td>50084.11458</td><td>LSST_i</td><td>1807.5411418</td><td>249.778016458</td><td>34.86</td><td>ab</td></tr><tr><td>50084.14252</td><td>LSST_i</td><td>1630.87843086</td><td>252.36346793</td><td>34.87</td><td>ab</td></tr></table>"
       ],
       "metadata": {},
       "output_type": "pyout",
       "prompt_number": 14,
       "text": [
        "<Table rows=618 names=('time','band','flux','fluxerr','zp','zpsys')>\n",
        "array([ (49966.13317, 'LSST_g', -55.74041793437927, 350.09003047741516, 34.65, 'ab'),\n",
        "       (49966.17576, 'LSST_g', 86.08727238424294, 247.78003224552364, 34.16, 'ab'),\n",
        "       (49966.12388, 'LSST_r', -620.7741519954911, 328.28008683954334, 34.76, 'ab'),\n",
        "       (49966.16647, 'LSST_r', 818.0933488955028, 308.4402534265634, 34.91, 'ab'),\n",
        "       (49966.11458, 'LSST_i', 14.901984263061125, 350.8501800597784, 34.52, 'ab'),\n",
        "       (49966.15718, 'LSST_i', -132.84561779508707, 325.60022856939474, 34.65, 'ab'),\n",
        "       (49966.14788, 'LSST_z', -17.73134708230931, 335.8601657363253, 34.33, 'ab'),\n",
        "       (49966.14252, 'LSST_Y', -332.1891518699596, 215.04003837695518, 32.24, 'ab'),\n",
        "       (49967.13317, 'LSST_g', -802.610837182717, 423.4803375363527, 34.66, 'ab'),\n",
        "       (49967.12388, 'LSST_r', 417.928826073501, 375.1632691057051, 34.76, 'ab'),\n",
        "       (49967.15182, 'LSST_r', -328.310913691087, 361.37588998074324, 34.86, 'ab'),\n",
        "       (49967.11458, 'LSST_i', 308.4657763282497, 377.7175370572062, 34.53, 'ab'),\n",
        "       (49967.14252, 'LSST_i', -83.98892058724101, 360.43917957569533, 34.63, 'ab'),\n",
        "       (49968.13317, 'LSST_g', -350.95873440098626, 521.9613996617869, 34.69, 'ab'),\n",
        "       (49968.12388, 'LSST_r', 315.9918544611408, 434.9525248447329, 34.77, 'ab'),\n",
        "       (49968.15182, 'LSST_r', -224.25813169411995, 423.03014864980935, 34.89, 'ab'),\n",
        "       (49968.11458, 'LSST_i', -145.40573589130074, 407.74965061632605, 34.54, 'ab'),\n",
        "       (49968.14252, 'LSST_i', 865.889637725149, 389.00473675644446, 34.63, 'ab'),\n",
        "       (49969.13317, 'LSST_g', 782.2402619986057, 593.7228010391323, 34.7, 'ab'),\n",
        "       (49969.17576, 'LSST_g', -738.2960412529764, 420.5425534317186, 34.2, 'ab'),\n",
        "       (49969.12388, 'LSST_r', -283.86690091122017, 484.64606459509776, 34.78, 'ab'),\n",
        "       (49969.16647, 'LSST_r', -18.5547909173805, 456.9390020891603, 34.94, 'ab'),\n",
        "       (49969.11458, 'LSST_i', -307.92598586066106, 436.54307114475336, 34.56, 'ab'),\n",
        "       (49969.15718, 'LSST_i', -255.47126215163397, 401.298650345751, 34.68, 'ab'),\n",
        "       (49969.14788, 'LSST_z', -443.3370578192121, 366.9734848654094, 34.33, 'ab'),\n",
        "       (49969.14252, 'LSST_Y', 0.874382498862543, 212.1228101637089, 32.27, 'ab'),\n",
        "       (49970.13317, 'LSST_g', 174.62827159526145, 502.34515627271855, 34.73, 'ab'),\n",
        "       (49970.17576, 'LSST_g', -114.22365616671483, 351.0845891277942, 34.2, 'ab'),\n",
        "       (49970.12388, 'LSST_r', 220.61352530871793, 431.13654453783755, 34.81, 'ab'),\n",
        "       (49970.16647, 'LSST_r', 261.4102365472274, 402.6705213571668, 34.94, 'ab'),\n",
        "       (49970.11458, 'LSST_i', 115.61473798756258, 408.27354694737494, 34.57, 'ab'),\n",
        "       (49970.15718, 'LSST_i', 137.15010933753328, 375.36048606234505, 34.69, 'ab'),\n",
        "       (49970.14788, 'LSST_z', 410.04670297084505, 353.5916179324317, 34.33, 'ab'),\n",
        "       (49970.14252, 'LSST_Y', -299.94638334112904, 211.56756411414028, 32.28, 'ab'),\n",
        "       (49971.13317, 'LSST_g', 60.203362955800785, 413.1615208395234, 34.76, 'ab'),\n",
        "       (49971.12388, 'LSST_r', 160.74013716634505, 372.2531631178295, 34.81, 'ab'),\n",
        "       (49971.15182, 'LSST_r', -255.7122590493439, 360.2388462863917, 34.91, 'ab'),\n",
        "       (49971.11458, 'LSST_i', -368.30451148134864, 378.5614822468998, 34.57, 'ab'),\n",
        "       (49971.14252, 'LSST_i', -161.48461521222234, 360.57343411300485, 34.66, 'ab'),\n",
        "       (49972.13317, 'LSST_g', 382.3609073478478, 335.1009588109232, 34.77, 'ab'),\n",
        "       (49972.12388, 'LSST_r', -847.2863952504447, 323.8413015504871, 34.82, 'ab'),\n",
        "       (49972.15182, 'LSST_r', -524.2927648691157, 316.7142084071502, 34.92, 'ab'),\n",
        "       (49972.11458, 'LSST_i', 530.7701547963416, 352.23363858453064, 34.59, 'ab'),\n",
        "       (49972.14252, 'LSST_i', 445.2264560871314, 336.2502293466273, 34.67, 'ab'),\n",
        "       (49973.13317, 'LSST_g', -235.42675610563361, 266.1227146537194, 34.78, 'ab'),\n",
        "       (49973.17576, 'LSST_g', 60.78231245127883, 202.88668219086927, 34.26, 'ab'),\n",
        "       (49973.12388, 'LSST_r', 153.33351567249767, 276.96165777250627, 34.82, 'ab'),\n",
        "       (49973.16647, 'LSST_r', 191.59647350931672, 269.83325874314716, 34.96, 'ab'),\n",
        "       (49973.11458, 'LSST_i', 615.6174375266127, 324.25632223188694, 34.58, 'ab'),\n",
        "       (49973.15718, 'LSST_i', 997.5930963177761, 303.88749034934847, 34.7, 'ab'),\n",
        "       (49973.14788, 'LSST_z', 1031.6401598000798, 314.65468876922625, 34.35, 'ab'),\n",
        "       (49973.14252, 'LSST_Y', -73.33505715775526, 209.75842101663287, 32.32, 'ab'),\n",
        "       (49974.13317, 'LSST_g', 327.3299036684813, 214.69963946110184, 34.8, 'ab'),\n",
        "       (49974.17576, 'LSST_g', 73.9877896286734, 163.55725307267443, 34.25, 'ab'),\n",
        "       (49974.12388, 'LSST_r', 207.194983123471, 161.36162510711026, 34.83, 'ab'),\n",
        "       (49974.16647, 'LSST_r', 198.0560563832073, 237.33436434742387, 34.98, 'ab'),\n",
        "       (49974.11458, 'LSST_i', 1065.6077472479033, 249.84973478685126, 34.6, 'ab'),\n",
        "       (49974.15718, 'LSST_i', 1340.0553118938792, 283.3568375143557, 34.7, 'ab'),\n",
        "       (49974.14788, 'LSST_z', 1018.2798645420071, 301.70623201916885, 34.35, 'ab'),\n",
        "       (49974.14252, 'LSST_Y', 13.854376989573865, 209.00335295530834, 32.33, 'ab'),\n",
        "       (49975.13317, 'LSST_g', 332.2068234235029, 110.65203499169287, 34.81, 'ab'),\n",
        "       (49975.12388, 'LSST_r', 723.0016817926152, 163.98219673643354, 34.86, 'ab'),\n",
        "       (49975.15182, 'LSST_r', 789.4940228018154, 157.83343753392234, 34.94, 'ab'),\n",
        "       (49975.11458, 'LSST_i', 1667.3144798130957, 248.89138193482168, 34.6, 'ab'),\n",
        "       (49975.14252, 'LSST_i', 1558.4024372500598, 235.439211597518, 34.67, 'ab'),\n",
        "       (49976.13317, 'LSST_g', 204.52468713192536, 112.26178085914142, 34.84, 'ab'),\n",
        "       (49976.12388, 'LSST_r', 1720.8413967042964, 164.9543643141129, 34.86, 'ab'),\n",
        "       (49976.15182, 'LSST_r', 1928.0015125656787, 161.10599839510542, 34.96, 'ab'),\n",
        "       (49976.11458, 'LSST_i', 2535.11175783025, 248.5621496536523, 34.61, 'ab'),\n",
        "       (49976.14252, 'LSST_i', 2639.685284567571, 239.23108649250332, 34.7, 'ab'),\n",
        "       (49977.13317, 'LSST_g', 379.037266234977, 111.5747851859513, 34.83, 'ab'),\n",
        "       (49977.17576, 'LSST_g', 306.94069724440556, 80.41915187747871, 34.29, 'ab'),\n",
        "       (49977.12388, 'LSST_r', 2427.8461496623668, 166.78216092801304, 34.87, 'ab'),\n",
        "       (49977.16647, 'LSST_r', 2683.8861061300067, 159.26923493765875, 34.98, 'ab'),\n",
        "       (49977.11458, 'LSST_i', 3038.8599853476703, 250.16360289974972, 34.62, 'ab'),\n",
        "       (49977.15718, 'LSST_i', 3960.2310486851816, 232.8846374950392, 34.72, 'ab'),\n",
        "       (49977.14788, 'LSST_z', 3301.7835828102893, 262.8344650130959, 34.37, 'ab'),\n",
        "       (49977.14252, 'LSST_Y', 98.3546686765456, 203.81061234058635, 32.35, 'ab'),\n",
        "       (49979.15182, 'LSST_r', 5054.094283052768, 168.26027337713955, 34.97, 'ab'),\n",
        "       (49980.13317, 'LSST_g', 1083.0154187523985, 115.18971771313498, 34.89, 'ab'),\n",
        "       (49980.12388, 'LSST_r', 5468.777157119856, 174.34865781327457, 34.89, 'ab'),\n",
        "       (49980.15182, 'LSST_r', 6146.553317474235, 169.91180507806942, 34.96, 'ab'),\n",
        "       (49980.11458, 'LSST_i', 6505.06978263332, 253.85560706931443, 34.65, 'ab'),\n",
        "       (49980.14252, 'LSST_i', 7660.257149953607, 243.48488969906307, 34.72, 'ab'),\n",
        "       (49981.13317, 'LSST_g', 910.1096832880522, 116.76079209194076, 34.91, 'ab'),\n",
        "       (49981.17576, 'LSST_g', 768.3769723220344, 81.78535713793919, 34.31, 'ab'),\n",
        "       (49981.12388, 'LSST_r', 6884.920634921863, 177.68197213509467, 34.9, 'ab'),\n",
        "       (49981.16647, 'LSST_r', 7639.5919342934885, 171.12436022114414, 35.0, 'ab'),\n",
        "       (49981.11458, 'LSST_i', 7736.97355794586, 253.9685827132037, 34.65, 'ab'),\n",
        "       (49981.15718, 'LSST_i', 8473.959184330142, 238.1398077976443, 34.74, 'ab'),\n",
        "       (49981.14788, 'LSST_z', 5874.608278628768, 262.8419640609803, 34.39, 'ab'),\n",
        "       (49981.14252, 'LSST_Y', 433.665464922047, 202.62739956563192, 32.39, 'ab'),\n",
        "       (49982.13317, 'LSST_g', 1403.1592846292478, 116.78599311268349, 34.91, 'ab'),\n",
        "       (49982.17576, 'LSST_g', 865.8328943027066, 82.54112313906646, 34.32, 'ab'),\n",
        "       (49982.12388, 'LSST_r', 7889.977644396487, 179.7766299864896, 34.9, 'ab'),\n",
        "       (49982.16647, 'LSST_r', 9011.952029020415, 174.66486944425353, 35.01, 'ab'),\n",
        "       (49982.11458, 'LSST_i', 8657.76470906297, 255.62731011709238, 34.66, 'ab'),\n",
        "       (49982.15718, 'LSST_i', 10059.25436952942, 239.25764030439842, 34.74, 'ab'),\n",
        "       (49982.14788, 'LSST_z', 6329.22773592009, 261.5069231879926, 34.38, 'ab'),\n",
        "       (49982.14252, 'LSST_Y', 1125.206681092168, 201.40486754334003, 32.4, 'ab'),\n",
        "       (49983.13317, 'LSST_g', 1560.6655282942131, 118.02421259449953, 34.93, 'ab'),\n",
        "       (49983.12388, 'LSST_r', 8834.023428027229, 183.09538183532788, 34.91, 'ab'),\n",
        "       (49983.15182, 'LSST_r', 9979.94298283451, 179.28000574220155, 34.98, 'ab'),\n",
        "       (49983.11458, 'LSST_i', 9635.214919189175, 256.1616245709394, 34.66, 'ab'),\n",
        "       (49983.14252, 'LSST_i', 10716.764448750659, 245.53364286941033, 34.71, 'ab'),\n",
        "       (49984.13317, 'LSST_g', 1899.6817439449783, 120.20719117701451, 34.96, 'ab'),\n",
        "       (49984.12388, 'LSST_r', 10579.054617351421, 186.6227455110412, 34.93, 'ab'),\n",
        "       (49984.15182, 'LSST_r', 10882.307605838347, 183.26731410577685, 34.99, 'ab'),\n",
        "       (49984.11458, 'LSST_i', 11301.640193451925, 259.0456299414097, 34.68, 'ab'),\n",
        "       (49984.14252, 'LSST_i', 12037.237169874477, 246.1912122280006, 34.71, 'ab'),\n",
        "       (49985.13317, 'LSST_g', 2102.902690709187, 120.94037701714966, 34.96, 'ab'),\n",
        "       (49985.17576, 'LSST_g', 1275.3776690419966, 85.58723024792403, 34.36, 'ab'),\n",
        "       (49985.12388, 'LSST_r', 12077.312998142103, 190.22169711559104, 34.94, 'ab'),\n",
        "       (49985.16647, 'LSST_r', 12849.01936744496, 185.67098102015854, 35.03, 'ab'),\n",
        "       (49985.11458, 'LSST_i', 12709.410532254606, 259.9843006233922, 34.68, 'ab'),\n",
        "       (49985.15718, 'LSST_i', 13537.547733229998, 244.16783157939867, 34.75, 'ab'),\n",
        "       (49985.14788, 'LSST_z', 8725.70333838994, 263.2655743938373, 34.4, 'ab'),\n",
        "       (49985.14252, 'LSST_Y', 1383.5632631622557, 201.6634805915673, 32.44, 'ab'),\n",
        "       (49987.13317, 'LSST_g', 2773.056389431127, 123.45203218040307, 34.99, 'ab'),\n",
        "       (49987.12388, 'LSST_r', 15075.727965140619, 195.63238711079293, 34.95, 'ab'),\n",
        "       (49987.15182, 'LSST_r', 15733.375306896598, 193.81808898439849, 35.02, 'ab'),\n",
        "       (49987.11458, 'LSST_i', 15486.821821547146, 260.99542234955413, 34.68, 'ab'),\n",
        "       (49987.14252, 'LSST_i', 16352.278087529587, 252.66478183808934, 34.74, 'ab'),\n",
        "       (49988.13317, 'LSST_g', 3273.848732955377, 124.07515479620594, 34.99, 'ab'),\n",
        "       (49988.12388, 'LSST_r', 16150.394098182727, 198.263726438033, 34.95, 'ab'),\n",
        "       (49988.15182, 'LSST_r', 16795.38945985772, 195.8998786792623, 35.01, 'ab'),\n",
        "       (49988.11458, 'LSST_i', 16309.89255275065, 263.3837927971357, 34.69, 'ab'),\n",
        "       (49988.14252, 'LSST_i', 17552.554491811556, 254.29272730688336, 34.74, 'ab'),\n",
        "       (49989.17576, 'LSST_g', 1937.2524095387419, 88.82159723685825, 34.38, 'ab'),\n",
        "       (49989.12388, 'LSST_r', 17050.089337049536, 200.92582759344245, 34.96, 'ab'),\n",
        "       (49989.11458, 'LSST_i', 18512.275444525723, 269.58276286819915, 34.71, 'ab'),\n",
        "       (49990.13317, 'LSST_g', 3700.543741024863, 159.49581735518137, 35.03, 'ab'),\n",
        "       (49990.17576, 'LSST_g', 2014.1152419645666, 89.8274232939132, 34.4, 'ab'),\n",
        "       (49990.12388, 'LSST_r', 18108.719609700103, 217.00768962811122, 34.97, 'ab'),\n",
        "       (49990.16647, 'LSST_r', 19389.07370074246, 199.91016496283424, 35.05, 'ab'),\n",
        "       (49990.11458, 'LSST_i', 19026.28012066617, 274.5177621675319, 34.7, 'ab'),\n",
        "       (49990.15718, 'LSST_i', 20703.20724934061, 259.7271264396586, 34.76, 'ab'),\n",
        "       (49990.14788, 'LSST_z', 12794.853017493828, 270.34948572650546, 34.41, 'ab'),\n",
        "       (49990.14252, 'LSST_Y', 2468.359156793756, 201.16597744206902, 32.48, 'ab'),\n",
        "       (49991.11458, 'LSST_i', 19801.380058165018, 281.965656200377, 34.7, 'ab'),\n",
        "       (49994.13317, 'LSST_g', 3799.506805690122, 281.5292995376479, 35.06, 'ab'),\n",
        "       (49994.17576, 'LSST_g', 2508.5707771857587, 190.33765834319874, 34.42, 'ab'),\n",
        "       (49994.12388, 'LSST_r', 20734.904774636467, 286.07169776055207, 35.0, 'ab'),\n",
        "       (49994.16647, 'LSST_r', 22318.287652648694, 273.4673697374231, 35.06, 'ab'),\n",
        "       (49994.11458, 'LSST_i', 22781.42078069862, 315.5630949106297, 34.71, 'ab'),\n",
        "       (49994.15718, 'LSST_i', 24007.711648274206, 301.8455109042712, 34.79, 'ab'),\n",
        "       (49994.14788, 'LSST_z', 15244.15375480178, 294.6025411514807, 34.42, 'ab'),\n",
        "       (49994.14252, 'LSST_Y', 2980.4029998153937, 199.96766695168336, 32.5, 'ab'),\n",
        "       (49995.13317, 'LSST_g', 4447.078317251609, 331.628489868929, 35.07, 'ab'),\n",
        "       (49995.12388, 'LSST_r', 21050.543070384167, 314.29358403095233, 35.0, 'ab'),\n",
        "       (49995.15182, 'LSST_r', 22193.248409655138, 306.8285554391358, 35.06, 'ab'),\n",
        "       (49995.11458, 'LSST_i', 23438.88448634015, 335.7173010176482, 34.74, 'ab'),\n",
        "       (49995.14252, 'LSST_i', 24660.540858549957, 321.0708089212135, 34.77, 'ab'),\n",
        "       (49996.13317, 'LSST_g', 3685.7652492726943, 396.19510609209794, 35.08, 'ab'),\n",
        "       (49996.12388, 'LSST_r', 20822.701625875037, 352.61218804153896, 35.02, 'ab'),\n",
        "       (49996.15182, 'LSST_r', 22260.38488561647, 341.41116552480406, 35.06, 'ab'),\n",
        "       (49996.11458, 'LSST_i', 23999.024206740403, 356.10514401397074, 34.74, 'ab'),\n",
        "       (49996.14252, 'LSST_i', 24590.455352985762, 338.6100832927829, 34.76, 'ab'),\n",
        "       (49997.13317, 'LSST_g', 4583.28865181891, 478.9771391694412, 35.1, 'ab'),\n",
        "       (49997.17576, 'LSST_g', 2376.5166487118704, 325.4820554937327, 34.43, 'ab'),\n",
        "       (49997.12388, 'LSST_r', 21308.820772414583, 398.47410620574817, 35.02, 'ab'),\n",
        "       (49997.16647, 'LSST_r', 22901.47212369649, 377.29334536522117, 35.07, 'ab'),\n",
        "       (49997.11458, 'LSST_i', 24442.046881330207, 378.7670396508061, 34.74, 'ab'),\n",
        "       (49997.15718, 'LSST_i', 26015.473310436228, 357.829227728783, 34.8, 'ab'),\n",
        "       (49997.14788, 'LSST_z', 15698.240689848144, 324.31932375558165, 34.42, 'ab'),\n",
        "       (49997.14252, 'LSST_Y', 3122.214851414526, 198.76172193027247, 32.52, 'ab'),\n",
        "       (49998.13317, 'LSST_g', 4447.887160801342, 581.0920538920967, 35.09, 'ab'),\n",
        "       (49998.17576, 'LSST_g', 3059.8803101296726, 400.9431092742772, 34.45, 'ab'),\n",
        "       (49998.12388, 'LSST_r', 22386.93666682375, 456.65293216620785, 35.03, 'ab'),\n",
        "       (49998.16647, 'LSST_r', 21709.207946262595, 433.3588059488476, 35.08, 'ab'),\n",
        "       (49998.11458, 'LSST_i', 24858.316600218033, 405.31245186127126, 34.74, 'ab'),\n",
        "       (49998.15718, 'LSST_i', 26160.41923296732, 384.97916459840445, 34.8, 'ab'),\n",
        "       (49998.14788, 'LSST_z', 15743.295299780571, 335.58924245920826, 34.42, 'ab'),\n",
        "       (49998.14252, 'LSST_Y', 3096.3046176874104, 199.85044972421898, 32.54, 'ab'),\n",
        "       (50000.13317, 'LSST_g', 4930.816085557306, 454.92568101298383, 35.1, 'ab'),\n",
        "       (50000.12388, 'LSST_r', 21062.638607463872, 394.3302580562222, 35.04, 'ab'),\n",
        "       (50000.15182, 'LSST_r', 20981.982644997664, 380.6509220252756, 35.07, 'ab'),\n",
        "       (50000.11458, 'LSST_i', 24534.43564180786, 378.78442879800696, 34.75, 'ab'),\n",
        "       (50000.14252, 'LSST_i', 26007.089587287795, 365.8411261173459, 34.79, 'ab'),\n",
        "       (50001.13317, 'LSST_g', 3467.474590978724, 377.83453123553534, 35.13, 'ab'),\n",
        "       (50001.17576, 'LSST_g', 2385.966400549985, 265.24768014859626, 34.47, 'ab'),\n",
        "       (50001.12388, 'LSST_r', 19680.2254980142, 346.178499149441, 35.03, 'ab'),\n",
        "       (50001.16647, 'LSST_r', 20780.7568613019, 334.8038732109231, 35.09, 'ab'),\n",
        "       (50001.11458, 'LSST_i', 25238.010215603135, 356.18289722591174, 34.77, 'ab'),\n",
        "       (50001.15718, 'LSST_i', 25879.500555996354, 339.0186955757006, 34.81, 'ab'),\n",
        "       (50001.14788, 'LSST_z', 16762.810979601807, 314.4550784029916, 34.44, 'ab'),\n",
        "       (50001.14252, 'LSST_Y', 3099.1635816999674, 195.6922039879999, 32.54, 'ab'),\n",
        "       (50002.11458, 'LSST_i', 25112.74893884319, 330.71323199132627, 34.76, 'ab'),\n",
        "       (50005.13317, 'LSST_g', 2972.0178030892907, 121.63376002369945, 35.15, 'ab'),\n",
        "       (50005.17576, 'LSST_g', 1417.1308826609625, 84.59680463891547, 34.47, 'ab'),\n",
        "       (50005.12388, 'LSST_r', 18107.000324050015, 196.20575297453945, 35.05, 'ab'),\n",
        "       (50005.16647, 'LSST_r', 18292.427539436612, 191.71052540761002, 35.09, 'ab'),\n",
        "       (50005.11458, 'LSST_i', 23148.324832451613, 258.87482516983357, 34.76, 'ab'),\n",
        "       (50005.15718, 'LSST_i', 24354.339322061805, 249.75912335806737, 34.8, 'ab'),\n",
        "       (50005.14788, 'LSST_z', 15789.682229289538, 252.8385485679068, 34.43, 'ab'),\n",
        "       (50005.14252, 'LSST_Y', 3403.9991839939557, 193.98927910650843, 32.59, 'ab'),\n",
        "       (50007.13317, 'LSST_g', 2532.5556204026752, 119.60657604794545, 35.16, 'ab'),\n",
        "       (50007.12388, 'LSST_r', 16557.415128616187, 193.45809322617893, 35.07, 'ab'),\n",
        "       (50007.15182, 'LSST_r', 16592.414487418224, 188.90501275003902, 35.08, 'ab'),\n",
        "       (50007.11458, 'LSST_i', 22483.24352932345, 256.8836900237435, 34.78, 'ab'),\n",
        "       (50007.14252, 'LSST_i', 22735.913319877167, 249.32805610847345, 34.8, 'ab'),\n",
        "       (50009.13317, 'LSST_g', 2272.700559288706, 117.30018570403816, 35.16, 'ab'),\n",
        "       (50009.17576, 'LSST_g', 1146.3823855309527, 81.51575299693495, 34.48, 'ab'),\n",
        "       (50009.12388, 'LSST_r', 15267.546097013572, 187.54632732106157, 35.06, 'ab'),\n",
        "       (50009.16647, 'LSST_r', 16420.74170691114, 184.34131070330582, 35.11, 'ab'),\n",
        "       (50009.11458, 'LSST_i', 21354.73478394824, 253.80144638420543, 34.79, 'ab'),\n",
        "       (50009.15718, 'LSST_i', 21445.178786796558, 242.9654161734414, 34.81, 'ab'),\n",
        "       (50009.14788, 'LSST_z', 14944.053495690214, 250.413996483616, 34.45, 'ab'),\n",
        "       (50009.14252, 'LSST_Y', 2785.184586539212, 189.82922476295883, 32.59, 'ab'),\n",
        "       (50010.13317, 'LSST_g', 1948.2485223493977, 117.1137068352364, 35.18, 'ab'),\n",
        "       (50010.17576, 'LSST_g', 1162.682950665682, 81.53469298278773, 34.5, 'ab'),\n",
        "       (50010.12388, 'LSST_r', 14357.260088618177, 185.6582580624433, 35.06, 'ab'),\n",
        "       (50010.16647, 'LSST_r', 15340.374943695708, 182.41932407450176, 35.11, 'ab'),\n",
        "       (50010.11458, 'LSST_i', 20747.015617652483, 249.97997371540333, 34.78, 'ab'),\n",
        "       (50010.15718, 'LSST_i', 21389.5526970864, 241.57978541547538, 34.82, 'ab'),\n",
        "       (50010.14788, 'LSST_z', 15249.61147002338, 247.74507070272657, 34.44, 'ab'),\n",
        "       (50010.14252, 'LSST_Y', 3015.1232918761557, 190.02352532057182, 32.6, 'ab'),\n",
        "       (50011.13317, 'LSST_g', 1940.0219224543039, 117.24516410666003, 35.2, 'ab'),\n",
        "       (50011.12388, 'LSST_r', 14315.170370548252, 183.05007472378344, 35.06, 'ab'),\n",
        "       (50011.15182, 'LSST_r', 14585.458641548506, 180.56612743034935, 35.09, 'ab'),\n",
        "       (50011.11458, 'LSST_i', 19877.376004748126, 247.83617980534774, 34.78, 'ab'),\n",
        "       (50011.14252, 'LSST_i', 20242.529360533463, 241.81854559394898, 34.81, 'ab'),\n",
        "       (50012.13317, 'LSST_g', 1729.976713180759, 115.33319514882852, 35.18, 'ab'),\n",
        "       (50012.12388, 'LSST_r', 13426.951333767225, 181.86047556191807, 35.07, 'ab'),\n",
        "       (50012.15182, 'LSST_r', 14242.27212549178, 180.1685394692753, 35.11, 'ab'),\n",
        "       (50012.11458, 'LSST_i', 18906.50279537625, 245.85253558742232, 34.78, 'ab'),\n",
        "       (50012.14252, 'LSST_i', 19252.035230302277, 238.9426211503093, 34.8, 'ab'),\n",
        "       (50013.13317, 'LSST_g', 1545.2813433987933, 114.68770218168414, 35.19, 'ab'),\n",
        "       (50013.17576, 'LSST_g', 874.6772223574098, 78.4278768279869, 34.48, 'ab'),\n",
        "       (50013.12388, 'LSST_r', 13021.182597126468, 179.1006108013286, 35.07, 'ab'),\n",
        "       (50013.16647, 'LSST_r', 13052.525200226528, 175.1518021204904, 35.11, 'ab'),\n",
        "       (50013.11458, 'LSST_i', 18162.261796523966, 242.71953713695348, 34.78, 'ab'),\n",
        "       (50013.15718, 'LSST_i', 19019.215596553422, 234.75287169152278, 34.82, 'ab'),\n",
        "       (50013.14788, 'LSST_z', 14397.621307273155, 245.49605765852365, 34.46, 'ab'),\n",
        "       (50013.14252, 'LSST_Y', 3012.0871994389395, 188.11872392489045, 32.62, 'ab'),\n",
        "       (50014.13317, 'LSST_g', 1421.472814264348, 113.62570628930996, 35.19, 'ab'),\n",
        "       (50014.17576, 'LSST_g', 878.171460438894, 78.48975404737767, 34.5, 'ab'),\n",
        "       (50014.12388, 'LSST_r', 12649.407583284474, 178.42878141479693, 35.09, 'ab'),\n",
        "       (50014.16647, 'LSST_r', 12806.18586995033, 172.87764026919572, 35.11, 'ab'),\n",
        "       (50014.11458, 'LSST_i', 17874.365961304, 240.9805024817025, 34.79, 'ab'),\n",
        "       (50014.15718, 'LSST_i', 18123.943236000556, 232.62380463449978, 34.82, 'ab'),\n",
        "       (50014.14788, 'LSST_z', 13868.89683313193, 242.13303200024342, 34.44, 'ab'),\n",
        "       (50014.14252, 'LSST_Y', 2539.506627755909, 187.4660931321313, 32.63, 'ab'),\n",
        "       (50015.13317, 'LSST_g', 1323.2943252533773, 112.87533819095144, 35.2, 'ab'),\n",
        "       (50015.12388, 'LSST_r', 11876.373064438123, 175.52361592851784, 35.08, 'ab'),\n",
        "       (50015.15182, 'LSST_r', 11974.246433781102, 172.12489271102035, 35.1, 'ab'),\n",
        "       (50015.11458, 'LSST_i', 17099.419132546085, 239.27121968956823, 34.79, 'ab'),\n",
        "       (50015.14252, 'LSST_i', 17468.32454087357, 234.07877287269835, 34.82, 'ab'),\n",
        "       (50016.13317, 'LSST_g', 1037.8201030037096, 112.46689267933637, 35.21, 'ab'),\n",
        "       (50016.12388, 'LSST_r', 10816.736505494084, 173.08405979400385, 35.08, 'ab'),\n",
        "       (50016.15182, 'LSST_r', 11152.315545244935, 170.28101578667136, 35.11, 'ab'),\n",
        "       (50016.11458, 'LSST_i', 16708.63926580581, 237.41593469925033, 34.8, 'ab'),\n",
        "       (50016.14252, 'LSST_i', 16948.984607425442, 231.6449070312339, 34.82, 'ab'),\n",
        "       (50017.13317, 'LSST_g', 1120.9639603231087, 111.79765024640056, 35.21, 'ab'),\n",
        "       (50017.17576, 'LSST_g', 455.160686074226, 77.27437161619814, 34.51, 'ab'),\n",
        "       (50017.12388, 'LSST_r', 10477.544555923321, 171.28574329866885, 35.09, 'ab'),\n",
        "       (50017.16647, 'LSST_r', 11020.441082457655, 167.57589430788914, 35.13, 'ab'),\n",
        "       (50017.11458, 'LSST_i', 16125.38232009353, 235.54845007651906, 34.8, 'ab'),\n",
        "       (50017.15718, 'LSST_i', 16084.804666754158, 225.856142694973, 34.82, 'ab'),\n",
        "       (50017.14788, 'LSST_z', 12826.045983410317, 239.39449954871304, 34.46, 'ab'),\n",
        "       (50017.14252, 'LSST_Y', 2456.0674775997786, 185.1205651057801, 32.64, 'ab'),\n",
        "       (50018.13317, 'LSST_g', 954.0437051716632, 111.34637022560314, 35.22, 'ab'),\n",
        "       (50018.17576, 'LSST_g', 469.3761532659968, 76.50820453023675, 34.51, 'ab'),\n",
        "       (50018.12388, 'LSST_r', 9989.323738717601, 168.53675644815348, 35.08, 'ab'),\n",
        "       (50018.16647, 'LSST_r', 10098.40794201575, 163.69049625339142, 35.11, 'ab'),\n",
        "       (50018.11458, 'LSST_i', 15300.15831799847, 234.41477009387305, 34.8, 'ab'),\n",
        "       (50018.15718, 'LSST_i', 15251.157694817035, 223.21451127394005, 34.82, 'ab'),\n",
        "       (50018.14788, 'LSST_z', 12225.406599326996, 236.16216149530345, 34.45, 'ab'),\n",
        "       (50018.14252, 'LSST_Y', 2552.6826948983007, 184.97312040868164, 32.65, 'ab'),\n",
        "       (50019.13317, 'LSST_g', 714.9616815431748, 136.32964367760903, 35.22, 'ab'),\n",
        "       (50019.12388, 'LSST_r', 9249.202471948756, 177.04759886385537, 35.09, 'ab'),\n",
        "       (50019.15182, 'LSST_r', 9470.239900047633, 172.7660975274659, 35.11, 'ab'),\n",
        "       (50019.11458, 'LSST_i', 14447.420910161547, 235.79975354914285, 34.8, 'ab'),\n",
        "       (50019.14252, 'LSST_i', 14655.179412717756, 230.33585699106223, 34.83, 'ab'),\n",
        "       (50020.13317, 'LSST_g', 914.2211833047161, 156.9075320818143, 35.24, 'ab'),\n",
        "       (50020.12388, 'LSST_r', 8567.299138759838, 184.21327891780035, 35.09, 'ab'),\n",
        "       (50020.15182, 'LSST_r', 8741.1392124703, 180.26710795264526, 35.13, 'ab'),\n",
        "       (50020.11458, 'LSST_i', 13989.330693015541, 241.61684780845695, 34.82, 'ab'),\n",
        "       (50020.14252, 'LSST_i', 13609.321438857687, 231.97332456317403, 34.81, 'ab'),\n",
        "       (50021.13317, 'LSST_g', 560.0487762637501, 179.9683023695932, 35.23, 'ab'),\n",
        "       (50021.17576, 'LSST_g', 416.65793631376914, 117.3399809795395, 34.53, 'ab'),\n",
        "       (50021.12388, 'LSST_r', 8172.383308580937, 194.6489605705123, 35.09, 'ab'),\n",
        "       (50021.16647, 'LSST_r', 8279.459558988183, 186.86470976772947, 35.13, 'ab'),\n",
        "       (50021.11458, 'LSST_i', 13007.971102814448, 245.26980900250553, 34.81, 'ab'),\n",
        "       (50021.15718, 'LSST_i', 13237.969206240881, 234.27295037487727, 34.83, 'ab'),\n",
        "       (50021.14788, 'LSST_z', 10913.525716832715, 245.67026012380904, 34.45, 'ab'),\n",
        "       (50021.14252, 'LSST_Y', 2118.711953625359, 184.32398567874696, 32.66, 'ab'),\n",
        "       (50022.13317, 'LSST_g', 813.7849669746769, 208.42976735777603, 35.24, 'ab'),\n",
        "       (50022.17576, 'LSST_g', 461.6574156957537, 137.45064674900735, 34.52, 'ab'),\n",
        "       (50022.12388, 'LSST_r', 7090.158864080544, 208.13504305397927, 35.09, 'ab'),\n",
        "       (50022.16647, 'LSST_r', 8110.207735977729, 202.43920211503615, 35.15, 'ab'),\n",
        "       (50022.11458, 'LSST_i', 12057.210511490766, 252.58446373083126, 34.81, 'ab'),\n",
        "       (50022.15718, 'LSST_i', 12666.869861200532, 241.45359809132415, 34.83, 'ab'),\n",
        "       (50022.14788, 'LSST_z', 11306.009390623634, 251.21178212679536, 34.47, 'ab'),\n",
        "       (50022.14252, 'LSST_Y', 2357.6287872749117, 183.3115190174677, 32.66, 'ab'),\n",
        "       (50023.11458, 'LSST_i', 11771.584193918705, 262.65136698452653, 34.81, 'ab'),\n",
        "       (50024.13317, 'LSST_g', 719.3977834548103, 287.7419383436565, 35.26, 'ab'),\n",
        "       (50024.12388, 'LSST_r', 6525.4423957686595, 252.43143937938052, 35.11, 'ab'),\n",
        "       (50024.15182, 'LSST_r', 7043.498522727295, 247.33198597496127, 35.14, 'ab'),\n",
        "       (50024.11458, 'LSST_i', 11157.79991389206, 276.315059809842, 34.82, 'ab'),\n",
        "       (50024.14252, 'LSST_i', 10892.047982893848, 268.42327585765037, 34.84, 'ab'),\n",
        "       (50027.13317, 'LSST_g', -163.76335966349842, 493.78625114125174, 35.26, 'ab'),\n",
        "       (50027.12388, 'LSST_r', 5656.990882729421, 370.8695161704355, 35.12, 'ab'),\n",
        "       (50027.15182, 'LSST_r', 5107.903555206303, 362.5784099177596, 35.14, 'ab'),\n",
        "       (50027.11458, 'LSST_i', 9429.262500146637, 335.0884620577346, 34.83, 'ab'),\n",
        "       (50027.14252, 'LSST_i', 8877.821325293797, 325.29471812977164, 34.84, 'ab'),\n",
        "       (50028.13317, 'LSST_g', 341.0684865215683, 584.9715129675176, 35.26, 'ab'),\n",
        "       (50028.12388, 'LSST_r', 4657.206987485849, 422.00454578063335, 35.12, 'ab'),\n",
        "       (50028.15182, 'LSST_r', 4116.687628299128, 412.2446908750424, 35.14, 'ab'),\n",
        "       (50028.11458, 'LSST_i', 8313.918203055653, 355.57956633834254, 34.81, 'ab'),\n",
        "       (50028.14252, 'LSST_i', 8596.339225387583, 346.34641377800307, 34.83, 'ab'),\n",
        "       (50029.13317, 'LSST_g', 539.7915861281094, 487.62259261958195, 35.27, 'ab'),\n",
        "       (50029.17576, 'LSST_g', 74.45032275848702, 339.8733913698523, 34.56, 'ab'),\n",
        "       (50029.12388, 'LSST_r', 4027.7046957254843, 372.5933532139423, 35.13, 'ab'),\n",
        "       (50029.16647, 'LSST_r', 4326.506797649837, 356.8952294887593, 35.15, 'ab'),\n",
        "       (50029.11458, 'LSST_i', 8870.938945101916, 334.67604071888735, 34.83, 'ab'),\n",
        "       (50029.15718, 'LSST_i', 8359.813793796373, 320.1565685601895, 34.85, 'ab'),\n",
        "       (50029.14788, 'LSST_z', 8474.344330253882, 291.3746275965446, 34.47, 'ab'),\n",
        "       (50029.14252, 'LSST_Y', 1749.8621176229628, 182.0844149294045, 32.69, 'ab'),\n",
        "       (50030.13317, 'LSST_g', 811.0578218990603, 399.6855569811826, 35.28, 'ab'),\n",
        "       (50030.17576, 'LSST_g', 437.59668060760407, 279.2768461297661, 34.55, 'ab'),\n",
        "       (50030.12388, 'LSST_r', 4195.361121737437, 319.945077069153, 35.12, 'ab'),\n",
        "       (50030.16647, 'LSST_r', 4583.20749552596, 313.9661002621573, 35.16, 'ab'),\n",
        "       (50030.11458, 'LSST_i', 7176.931951427741, 307.94361679246816, 34.82, 'ab'),\n",
        "       (50030.15718, 'LSST_i', 7560.865872905052, 295.99575284066526, 34.84, 'ab'),\n",
        "       (50030.14788, 'LSST_z', 8227.857299741025, 277.52942069110173, 34.46, 'ab'),\n",
        "       (50030.14252, 'LSST_Y', 1882.4643027048955, 182.23568505760332, 32.71, 'ab'),\n",
        "       (50031.13317, 'LSST_g', 495.9254527053454, 322.0102992360815, 35.27, 'ab'),\n",
        "       (50031.12388, 'LSST_r', 3765.167814548726, 277.66966347621326, 35.13, 'ab'),\n",
        "       (50031.15182, 'LSST_r', 3133.528850284646, 274.5119539597266, 35.15, 'ab'),\n",
        "       (50031.11458, 'LSST_i', 7916.100782801996, 285.59335689748127, 34.84, 'ab'),\n",
        "       (50031.14252, 'LSST_i', 7228.002020591836, 276.86290034303096, 34.84, 'ab'),\n",
        "       (50033.13317, 'LSST_g', 131.5755304940484, 207.38116306165333, 35.28, 'ab'),\n",
        "       (50033.17576, 'LSST_g', 268.3398472327417, 157.67144669474646, 34.56, 'ab'),\n",
        "       (50033.12388, 'LSST_r', 3705.117399560927, 210.98848245306405, 35.14, 'ab'),\n",
        "       (50033.16647, 'LSST_r', 3528.1491539001336, 208.34781513275732, 35.14, 'ab'),\n",
        "       (50033.11458, 'LSST_i', 7029.794818624313, 205.0314933104921, 34.84, 'ab'),\n",
        "       (50033.15718, 'LSST_i', 6657.332222314464, 239.30823968673934, 34.85, 'ab'),\n",
        "       (50033.14788, 'LSST_z', 7086.859174643493, 243.65552025018266, 34.46, 'ab'),\n",
        "       (50033.14252, 'LSST_Y', 1740.6236514236582, 180.20313247268462, 32.71, 'ab'),\n",
        "       (50034.13317, 'LSST_g', 34.54057873667128, 105.03323959701576, 35.27, 'ab'),\n",
        "       (50034.17576, 'LSST_g', 236.9946334031959, 129.62901000859424, 34.56, 'ab'),\n",
        "       (50034.12388, 'LSST_r', 3204.0624587226357, 142.39747737260188, 35.12, 'ab'),\n",
        "       (50034.16647, 'LSST_r', 3406.6706816474875, 186.18006647480516, 35.14, 'ab'),\n",
        "       (50034.11458, 'LSST_i', 6343.955396176145, 203.23714907858343, 34.84, 'ab'),\n",
        "       (50034.15718, 'LSST_i', 6671.77529784735, 225.7720239473347, 34.85, 'ab'),\n",
        "       (50034.14788, 'LSST_z', 6936.035550250992, 215.83392631444013, 34.47, 'ab'),\n",
        "       (50034.14252, 'LSST_Y', 1865.5994547298133, 180.31789758274624, 32.73, 'ab'),\n",
        "       (50035.13317, 'LSST_g', 150.38180464555484, 104.10576806614368, 35.26, 'ab'),\n",
        "       (50035.12388, 'LSST_r', 3027.442052030401, 141.62646409821423, 35.13, 'ab'),\n",
        "       (50035.15182, 'LSST_r', 3035.1308343856845, 139.2353974471084, 35.14, 'ab'),\n",
        "       (50035.11458, 'LSST_i', 5882.896463987593, 201.35258747280693, 34.83, 'ab'),\n",
        "       (50035.14252, 'LSST_i', 5988.702947606151, 196.41023627456133, 34.84, 'ab'),\n",
        "       (50036.13317, 'LSST_g', 137.99796790894072, 105.43632508734828, 35.29, 'ab'),\n",
        "       (50036.12388, 'LSST_r', 2582.8433338784725, 139.81997073118836, 35.12, 'ab'),\n",
        "       (50036.15182, 'LSST_r', 3106.426667158265, 138.0017009585957, 35.14, 'ab'),\n",
        "       (50036.11458, 'LSST_i', 5642.282310464653, 200.30684956370305, 34.83, 'ab'),\n",
        "       (50036.14252, 'LSST_i', 5344.791357900616, 196.5807965771079, 34.85, 'ab'),\n",
        "       (50037.13317, 'LSST_g', 201.74271848146088, 104.8143020095845, 35.29, 'ab'),\n",
        "       (50037.17576, 'LSST_g', 95.30925492718485, 72.52061966490255, 34.55, 'ab'),\n",
        "       (50037.12388, 'LSST_r', 2794.0853267254183, 139.57007497658873, 35.12, 'ab'),\n",
        "       (50037.16647, 'LSST_r', 2732.3243579382543, 135.75252279743677, 35.14, 'ab'),\n",
        "       (50037.11458, 'LSST_i', 5112.1825880057095, 199.64718826597664, 34.84, 'ab'),\n",
        "       (50037.15718, 'LSST_i', 4927.429465953701, 191.80025832699218, 34.84, 'ab'),\n",
        "       (50037.14788, 'LSST_z', 6411.862158190018, 212.6785586410916, 34.48, 'ab'),\n",
        "       (50037.14252, 'LSST_Y', 1965.5149266616368, 178.32497765605999, 32.73, 'ab'),\n",
        "       (50038.13317, 'LSST_g', 364.36629095660976, 104.57701405325636, 35.28, 'ab'),\n",
        "       (50038.17576, 'LSST_g', 96.25060848539599, 72.14165145750559, 34.54, 'ab'),\n",
        "       (50038.12388, 'LSST_r', 2892.293427736908, 139.3983295769121, 35.14, 'ab'),\n",
        "       (50038.16647, 'LSST_r', 2466.2385329800663, 135.3804296852085, 35.14, 'ab'),\n",
        "       (50038.11458, 'LSST_i', 5212.002418630086, 198.26403728020279, 34.84, 'ab'),\n",
        "       (50038.15718, 'LSST_i', 5501.3114322518, 192.97835789073704, 34.86, 'ab'),\n",
        "       (50038.14788, 'LSST_z', 6232.230249831251, 211.61936633265844, 34.47, 'ab'),\n",
        "       (50038.14252, 'LSST_Y', 1760.0822390985609, 177.24866979987812, 32.73, 'ab'),\n",
        "       (50040.13317, 'LSST_g', 265.3723999576886, 105.18597319081954, 35.3, 'ab'),\n",
        "       (50040.12388, 'LSST_r', 2212.5740545755893, 136.81753518760948, 35.12, 'ab'),\n",
        "       (50040.15182, 'LSST_r', 2570.0470499179805, 135.14839862331786, 35.15, 'ab'),\n",
        "       (50040.11458, 'LSST_i', 4472.191314956849, 195.8692829563843, 34.84, 'ab'),\n",
        "       (50040.14252, 'LSST_i', 4482.117114581806, 191.27530384806286, 34.85, 'ab'),\n",
        "       (50041.13317, 'LSST_g', 76.31510922871436, 103.77139921405518, 35.28, 'ab'),\n",
        "       (50041.17576, 'LSST_g', -47.60430287692705, 72.09559274018709, 34.55, 'ab'),\n",
        "       (50041.12388, 'LSST_r', 2294.4071781910798, 136.16633752169272, 35.13, 'ab'),\n",
        "       (50041.16647, 'LSST_r', 2478.9818209144037, 133.23546461721838, 35.14, 'ab'),\n",
        "       (50041.11458, 'LSST_i', 4279.9079966284735, 195.3374979341582, 34.85, 'ab'),\n",
        "       (50041.15718, 'LSST_i', 4116.9099535005225, 187.8671306456169, 34.84, 'ab'),\n",
        "       (50041.14788, 'LSST_z', 4787.471514875752, 207.21690887486923, 34.46, 'ab'),\n",
        "       (50041.14252, 'LSST_Y', 1628.3194397695167, 178.674779791479, 32.76, 'ab'),\n",
        "       (50042.13317, 'LSST_g', 243.13941741561152, 104.61392119930257, 35.3, 'ab'),\n",
        "       (50042.17576, 'LSST_g', 266.99548905948507, 71.93401147636634, 34.55, 'ab'),\n",
        "       (50042.12388, 'LSST_r', 1978.1455703653214, 136.6605606696098, 35.14, 'ab'),\n",
        "       (50042.16647, 'LSST_r', 2201.742708639542, 133.34990058508262, 35.15, 'ab'),\n",
        "       (50042.11458, 'LSST_i', 3839.6233223903464, 192.48324450506001, 34.83, 'ab'),\n",
        "       (50042.15718, 'LSST_i', 4236.036919688617, 187.73947917969645, 34.85, 'ab'),\n",
        "       (50042.14788, 'LSST_z', 4905.701270095689, 207.85701525539264, 34.47, 'ab'),\n",
        "       (50042.14252, 'LSST_Y', 1405.3464328572086, 176.819970193013, 32.74, 'ab'),\n",
        "       (50043.13317, 'LSST_g', 285.10780227249916, 103.31429673007749, 35.29, 'ab'),\n",
        "       (50043.12388, 'LSST_r', 1952.1967877265772, 135.15611321956263, 35.13, 'ab'),\n",
        "       (50043.15182, 'LSST_r', 2045.050099816075, 132.54539664179828, 35.14, 'ab'),\n",
        "       (50043.11458, 'LSST_i', 4128.81531972942, 192.57710988778658, 34.84, 'ab'),\n",
        "       (50043.14252, 'LSST_i', 4194.409390714981, 189.80165298824303, 34.86, 'ab'),\n",
        "       (50044.13317, 'LSST_g', 157.89136038311108, 104.28718883307438, 35.31, 'ab'),\n",
        "       (50044.12388, 'LSST_r', 1960.846645753519, 135.73244327385999, 35.15, 'ab'),\n",
        "       (50044.15182, 'LSST_r', 2040.4376787277743, 132.3376468745364, 35.14, 'ab'),\n",
        "       (50044.11458, 'LSST_i', 3901.3422808259006, 192.20818677024548, 34.85, 'ab'),\n",
        "       (50044.14252, 'LSST_i', 3611.96696035025, 186.77054578279154, 34.84, 'ab'),\n",
        "       (50045.13317, 'LSST_g', 224.0154217935264, 103.62954506920329, 35.3, 'ab'),\n",
        "       (50045.17576, 'LSST_g', 139.005781525435, 71.72251131168473, 34.55, 'ab'),\n",
        "       (50045.12388, 'LSST_r', 1934.7307074847472, 134.695208165788, 35.15, 'ab'),\n",
        "       (50045.16647, 'LSST_r', 1811.1812542552248, 131.89195482275187, 35.16, 'ab'),\n",
        "       (50045.11458, 'LSST_i', 3445.675686202932, 189.8191346520015, 34.83, 'ab'),\n",
        "       (50045.15718, 'LSST_i', 3898.013707558246, 185.87780451859976, 34.85, 'ab'),\n",
        "       (50045.14788, 'LSST_z', 4385.637926664805, 204.42316465829316, 34.47, 'ab'),\n",
        "       (50045.14252, 'LSST_Y', 1929.4333365979162, 176.94524879322117, 32.76, 'ab'),\n",
        "       (50046.13317, 'LSST_g', 150.68784347109073, 103.35651133971945, 35.3, 'ab'),\n",
        "       (50046.17576, 'LSST_g', 130.42420693428247, 71.8489324969623, 34.56, 'ab'),\n",
        "       (50046.12388, 'LSST_r', 1857.911182953415, 133.32454580491418, 35.14, 'ab'),\n",
        "       (50046.16647, 'LSST_r', 1872.6994773842678, 130.79783008182972, 35.15, 'ab'),\n",
        "       (50046.11458, 'LSST_i', 3857.34217369336, 190.38344865105583, 34.84, 'ab'),\n",
        "       (50046.15718, 'LSST_i', 3393.395727158406, 184.93838224445875, 34.85, 'ab'),\n",
        "       (50046.14788, 'LSST_z', 4409.576335975457, 204.11184280693558, 34.47, 'ab'),\n",
        "       (50046.14252, 'LSST_Y', 1539.4652405323493, 175.66716965638796, 32.75, 'ab'),\n",
        "       (50047.13317, 'LSST_g', 144.0849668657261, 104.20859150333719, 35.32, 'ab'),\n",
        "       (50047.12388, 'LSST_r', 1593.7482069096384, 133.5464882509835, 35.15, 'ab'),\n",
        "       (50047.15182, 'LSST_r', 1638.773015525932, 131.3584454412595, 35.15, 'ab'),\n",
        "       (50047.11458, 'LSST_i', 3514.236311702199, 189.28598256295533, 34.84, 'ab'),\n",
        "       (50047.14252, 'LSST_i', 3246.9532107485734, 185.92449831021804, 34.85, 'ab'),\n",
        "       (50048.13317, 'LSST_g', 203.57946700735334, 123.98451335199314, 35.32, 'ab'),\n",
        "       (50048.12388, 'LSST_r', 1688.297527428693, 139.78964027108307, 35.13, 'ab'),\n",
        "       (50048.15182, 'LSST_r', 1726.5483343757312, 129.88021917702724, 35.14, 'ab'),\n",
        "       (50048.11458, 'LSST_i', 3391.134647121346, 193.8026161643603, 34.85, 'ab'),\n",
        "       (50048.14252, 'LSST_i', 3052.6592079927013, 185.05229190944235, 34.84, 'ab'),\n",
        "       (50049.13317, 'LSST_g', 328.9310048162554, 137.4497706795455, 35.31, 'ab'),\n",
        "       (50049.17576, 'LSST_g', 79.36867504591157, 72.0129061729939, 34.56, 'ab'),\n",
        "       (50049.12388, 'LSST_r', 1360.6825292449334, 148.7570589589131, 35.14, 'ab'),\n",
        "       (50049.16647, 'LSST_r', 1357.0562051336894, 144.06969940368253, 35.16, 'ab'),\n",
        "       (50049.11458, 'LSST_i', 3122.677091792588, 196.9696551910677, 34.85, 'ab'),\n",
        "       (50049.15718, 'LSST_i', 3196.915507825643, 192.15506835949006, 34.86, 'ab'),\n",
        "       (50049.14788, 'LSST_z', 3763.4278463162436, 211.63964334687856, 34.48, 'ab'),\n",
        "       (50049.14252, 'LSST_Y', 1351.6394147707772, 176.33824801581721, 32.77, 'ab'),\n",
        "       (50050.13317, 'LSST_g', 313.44170118032645, 159.43351938605858, 35.32, 'ab'),\n",
        "       (50050.17576, 'LSST_g', -39.03869632428284, 102.66114541795329, 34.56, 'ab'),\n",
        "       (50050.12388, 'LSST_r', 1560.818239874036, 159.86878615226703, 35.14, 'ab'),\n",
        "       (50050.16647, 'LSST_r', 1481.704383426579, 155.7379504258087, 35.17, 'ab'),\n",
        "       (50050.11458, 'LSST_i', 3128.3901612467484, 202.78714271192405, 34.84, 'ab'),\n",
        "       (50050.15718, 'LSST_i', 2773.2223711841957, 199.06349996903094, 34.86, 'ab'),\n",
        "       (50050.14788, 'LSST_z', 3593.006035859206, 212.92275779636606, 34.46, 'ab'),\n",
        "       (50050.14252, 'LSST_Y', 970.4377977594697, 177.27405370238074, 32.78, 'ab'),\n",
        "       (50051.13317, 'LSST_g', 166.1453505143655, 185.24187699785986, 35.33, 'ab'),\n",
        "       (50051.12388, 'LSST_r', 1236.612941198431, 175.03479776938596, 35.15, 'ab'),\n",
        "       (50051.15182, 'LSST_r', 997.0813970964042, 172.35292766768669, 35.16, 'ab'),\n",
        "       (50051.11458, 'LSST_i', 3173.7908753846937, 211.63468424618478, 34.84, 'ab'),\n",
        "       (50051.14252, 'LSST_i', 3053.3481759078086, 208.7566993958313, 34.86, 'ab'),\n",
        "       (50052.13317, 'LSST_g', 404.6692289016895, 216.82702568425896, 35.33, 'ab'),\n",
        "       (50052.12388, 'LSST_r', 1446.727969371348, 192.883591090804, 35.14, 'ab'),\n",
        "       (50052.15182, 'LSST_r', 1030.083425372316, 191.38383300149974, 35.16, 'ab'),\n",
        "       (50052.11458, 'LSST_i', 2915.0261502698645, 221.5348041058747, 34.84, 'ab'),\n",
        "       (50052.14252, 'LSST_i', 2584.459237290785, 219.9254229472151, 34.86, 'ab'),\n",
        "       (50053.13317, 'LSST_g', 330.1089808295013, 252.94316919368717, 35.32, 'ab'),\n",
        "       (50053.17576, 'LSST_g', 160.41252103370203, 172.92151476596152, 34.58, 'ab'),\n",
        "       (50053.12388, 'LSST_r', 1353.3060606514107, 217.153908922743, 35.15, 'ab'),\n",
        "       (50053.16647, 'LSST_r', 1443.3023197411082, 212.53477102356254, 35.16, 'ab'),\n",
        "       (50053.11458, 'LSST_i', 2985.319901434699, 236.49560978231816, 34.85, 'ab'),\n",
        "       (50053.15718, 'LSST_i', 2458.5233370820415, 232.15649113591925, 34.87, 'ab'),\n",
        "       (50053.14788, 'LSST_z', 3260.5045767742254, 234.75728500952823, 34.49, 'ab'),\n",
        "       (50053.14252, 'LSST_Y', 1353.7726926532307, 176.43204621761325, 32.78, 'ab'),\n",
        "       (50054.13317, 'LSST_g', 142.4448357003589, 300.5004050988059, 35.33, 'ab'),\n",
        "       (50054.17576, 'LSST_g', 24.496731908167305, 207.2807858245047, 34.59, 'ab'),\n",
        "       (50054.12388, 'LSST_r', 1112.7034875775257, 246.74993939933228, 35.16, 'ab'),\n",
        "       (50054.16647, 'LSST_r', 1422.2111760831035, 240.83083907744893, 35.16, 'ab'),\n",
        "       (50054.11458, 'LSST_i', 2764.0966744282437, 251.7432494612646, 34.85, 'ab'),\n",
        "       (50054.15718, 'LSST_i', 2948.9968552734294, 245.9797583575062, 34.85, 'ab'),\n",
        "       (50054.14788, 'LSST_z', 2983.835467171768, 240.93859812801642, 34.47, 'ab'),\n",
        "       (50054.14252, 'LSST_Y', 1393.5542682652735, 176.19311692089923, 32.78, 'ab'),\n",
        "       (50055.13317, 'LSST_g', 189.99405108794028, 356.4146804811325, 35.33, 'ab'),\n",
        "       (50055.12388, 'LSST_r', 1424.8188472701647, 276.9469803396556, 35.15, 'ab'),\n",
        "       (50055.15182, 'LSST_r', 1332.9083617144352, 273.8901264653701, 35.15, 'ab'),\n",
        "       (50055.11458, 'LSST_i', 2372.5758845262617, 270.39197014219735, 34.86, 'ab'),\n",
        "       (50055.14252, 'LSST_i', 2482.9313644803974, 266.1638021772043, 34.86, 'ab'),\n",
        "       (50056.13317, 'LSST_g', -442.2544131412079, 418.5669118161547, 35.32, 'ab'),\n",
        "       (50056.12388, 'LSST_r', 1056.9243751458519, 316.12461231153094, 35.16, 'ab'),\n",
        "       (50056.15182, 'LSST_r', 828.7062975366296, 313.44952138229905, 35.16, 'ab'),\n",
        "       (50056.11458, 'LSST_i', 2633.209053182175, 288.7688854271352, 34.86, 'ab'),\n",
        "       (50056.14252, 'LSST_i', 3025.863718572086, 285.6622727310932, 34.86, 'ab'),\n",
        "       (50057.13317, 'LSST_g', -174.1884521377099, 494.7973991365961, 35.33, 'ab'),\n",
        "       (50057.17576, 'LSST_g', 147.97429600404357, 346.50441311128117, 34.57, 'ab'),\n",
        "       (50057.12388, 'LSST_r', 1233.0789659041102, 358.0075342511032, 35.16, 'ab'),\n",
        "       (50057.16647, 'LSST_r', 897.50258403305, 351.4809943427146, 35.15, 'ab'),\n",
        "       (50057.11458, 'LSST_i', 2235.822122138112, 307.436974987684, 34.86, 'ab'),\n",
        "       (50057.15718, 'LSST_i', 2146.663304675456, 304.7236258746246, 34.87, 'ab'),\n",
        "       (50057.14788, 'LSST_z', 2755.5584294019986, 267.7210927599266, 34.47, 'ab'),\n",
        "       (50057.14252, 'LSST_Y', 1063.348455611146, 175.384619276474, 32.77, 'ab'),\n",
        "       (50058.13317, 'LSST_g', 113.71619423992858, 525.3166155466957, 35.34, 'ab'),\n",
        "       (50058.17576, 'LSST_g', 470.4505011449161, 372.52644635647584, 34.59, 'ab'),\n",
        "       (50058.12388, 'LSST_r', 621.1821857872712, 370.83870350241057, 35.15, 'ab'),\n",
        "       (50058.16647, 'LSST_r', 1767.457228461834, 369.849822152725, 35.17, 'ab'),\n",
        "       (50058.11458, 'LSST_i', 2487.8467091420675, 315.10475380673495, 34.86, 'ab'),\n",
        "       (50058.15718, 'LSST_i', 2719.633485941103, 307.94232879102395, 34.85, 'ab'),\n",
        "       (50058.14788, 'LSST_z', 2675.5682237269975, 272.8535350974689, 34.48, 'ab'),\n",
        "       (50058.14252, 'LSST_Y', 1037.141055565869, 176.4142740948694, 32.79, 'ab'),\n",
        "       (50059.13317, 'LSST_g', 313.8169326216494, 437.42980968773713, 35.34, 'ab'),\n",
        "       (50059.12388, 'LSST_r', 348.78605459610003, 323.73357441378124, 35.15, 'ab'),\n",
        "       (50059.15182, 'LSST_r', 626.0442962142184, 324.64952665974937, 35.17, 'ab'),\n",
        "       (50059.11458, 'LSST_i', 2124.927479425715, 291.01836533292783, 34.86, 'ab'),\n",
        "       (50059.14252, 'LSST_i', 2389.290069582, 286.27436626966505, 34.85, 'ab'),\n",
        "       (50060.13317, 'LSST_g', 247.32782100749668, 354.38847894813983, 35.32, 'ab'),\n",
        "       (50060.12388, 'LSST_r', 1128.72993121263, 279.6432611545796, 35.16, 'ab'),\n",
        "       (50060.15182, 'LSST_r', 1116.067537071388, 280.1368942432745, 35.17, 'ab'),\n",
        "       (50060.11458, 'LSST_i', 2046.89491409007, 266.7640247341727, 34.85, 'ab'),\n",
        "       (50060.14252, 'LSST_i', 2207.7560590304874, 266.08888493451997, 34.87, 'ab'),\n",
        "       (50063.13317, 'LSST_g', 104.05710872686957, 192.21154877335445, 35.33, 'ab'),\n",
        "       (50063.12388, 'LSST_r', 1019.0888525068561, 184.73537413276625, 35.14, 'ab'),\n",
        "       (50063.15182, 'LSST_r', 962.8187765588928, 188.97188669928974, 35.16, 'ab'),\n",
        "       (50063.11458, 'LSST_i', 1875.5275614662482, 181.10712733342484, 34.85, 'ab'),\n",
        "       (50063.14252, 'LSST_i', 1694.0699153844505, 216.76031759497306, 34.87, 'ab'),\n",
        "       (50067.13317, 'LSST_g', 147.98756372312164, 101.12269836602326, 35.32, 'ab'),\n",
        "       (50067.12388, 'LSST_r', 1270.743133980768, 127.05428127815306, 35.15, 'ab'),\n",
        "       (50067.15182, 'LSST_r', 1110.669520040062, 126.27128887724494, 35.14, 'ab'),\n",
        "       (50067.11458, 'LSST_i', 1961.415763037765, 180.3281706814503, 34.86, 'ab'),\n",
        "       (50067.14252, 'LSST_i', 1973.4087605507343, 178.14347363418798, 34.85, 'ab'),\n",
        "       (50068.13317, 'LSST_g', -84.4761057398789, 101.23502200380378, 35.32, 'ab'),\n",
        "       (50068.12388, 'LSST_r', 1130.8417890624787, 127.55695743327138, 35.16, 'ab'),\n",
        "       (50068.15182, 'LSST_r', 867.7215347017486, 126.38618063554543, 35.15, 'ab'),\n",
        "       (50068.11458, 'LSST_i', 1907.303996809529, 180.2619476149998, 34.86, 'ab'),\n",
        "       (50068.14252, 'LSST_i', 1776.964237939553, 178.53329514123178, 34.86, 'ab'),\n",
        "       (50069.13317, 'LSST_g', 166.96229478020297, 101.76074798054319, 35.33, 'ab'),\n",
        "       (50069.17576, 'LSST_g', -38.759243518751376, 71.44722643750441, 34.55, 'ab'),\n",
        "       (50069.12388, 'LSST_r', 891.7247643759158, 127.73033284030738, 35.16, 'ab'),\n",
        "       (50069.16647, 'LSST_r', 1127.2738981506586, 127.3053886943298, 35.15, 'ab'),\n",
        "       (50069.11458, 'LSST_i', 1838.5111814646023, 178.59647148844272, 34.85, 'ab'),\n",
        "       (50069.15718, 'LSST_i', 2116.8583137820165, 178.3310641236621, 34.86, 'ab'),\n",
        "       (50069.14788, 'LSST_z', 2162.872379948484, 196.7499477335718, 34.48, 'ab'),\n",
        "       (50069.14252, 'LSST_Y', 464.65646338507474, 173.46306309853, 32.8, 'ab'),\n",
        "       (50070.13317, 'LSST_g', 141.35198549332372, 101.0640282672609, 35.32, 'ab'),\n",
        "       (50070.17576, 'LSST_g', 31.11117496261043, 71.52915270888072, 34.56, 'ab'),\n",
        "       (50070.12388, 'LSST_r', 1030.0570774631303, 127.63931421389466, 35.16, 'ab'),\n",
        "       (50070.16647, 'LSST_r', 934.2591058567635, 127.26308557070654, 35.15, 'ab'),\n",
        "       (50070.11458, 'LSST_i', 1734.1509001827972, 179.71674792423931, 34.86, 'ab'),\n",
        "       (50070.15718, 'LSST_i', 2143.521190306375, 179.0049829664798, 34.86, 'ab'),\n",
        "       (50070.14788, 'LSST_z', 2173.3286660583535, 195.9908482689848, 34.48, 'ab'),\n",
        "       (50070.14252, 'LSST_Y', 588.010303531553, 174.2089237591304, 32.81, 'ab'),\n",
        "       (50073.13317, 'LSST_g', 233.58965174848333, 101.37439469196296, 35.33, 'ab'),\n",
        "       (50073.17576, 'LSST_g', 21.644655961030786, 71.2478680104824, 34.55, 'ab'),\n",
        "       (50073.12388, 'LSST_r', 589.7517342114776, 126.30983180426674, 35.15, 'ab'),\n",
        "       (50073.16647, 'LSST_r', 794.965367168342, 127.16220970072845, 35.15, 'ab'),\n",
        "       (50073.11458, 'LSST_i', 1730.0589729118192, 179.49837175006542, 34.86, 'ab'),\n",
        "       (50073.15718, 'LSST_i', 1604.412943588729, 179.36915490094498, 34.86, 'ab'),\n",
        "       (50073.14788, 'LSST_z', 1773.0361028029151, 195.7146101081078, 34.48, 'ab'),\n",
        "       (50073.14252, 'LSST_Y', 751.4023804311, 172.91441292343293, 32.8, 'ab'),\n",
        "       (50074.13317, 'LSST_g', 233.38743271418036, 101.54083714204033, 35.33, 'ab'),\n",
        "       (50074.17576, 'LSST_g', -7.166441322891757, 71.67717775666866, 34.55, 'ab'),\n",
        "       (50074.12388, 'LSST_r', 928.0338866397594, 126.48311946475029, 35.15, 'ab'),\n",
        "       (50074.16647, 'LSST_r', 763.2423913805296, 127.03456679452988, 35.15, 'ab'),\n",
        "       (50074.11458, 'LSST_i', 2023.694373531818, 178.6580809437677, 34.85, 'ab'),\n",
        "       (50074.15718, 'LSST_i', 2194.517616594615, 178.63586867503184, 34.85, 'ab'),\n",
        "       (50074.14788, 'LSST_z', 1990.8502242918757, 195.6624562218607, 34.48, 'ab'),\n",
        "       (50074.14252, 'LSST_Y', 633.2010369129013, 174.26247921090328, 32.81, 'ab'),\n",
        "       (50075.13317, 'LSST_g', 240.01040581442066, 101.03685565499396, 35.32, 'ab'),\n",
        "       (50075.12388, 'LSST_r', 712.7935879259239, 126.06238945938472, 35.15, 'ab'),\n",
        "       (50075.15182, 'LSST_r', 924.5468315041493, 126.65375811278868, 35.15, 'ab'),\n",
        "       (50075.11458, 'LSST_i', 1645.778600982858, 179.29983543038256, 34.86, 'ab'),\n",
        "       (50075.14252, 'LSST_i', 1765.3853161661702, 177.327948040614, 34.85, 'ab'),\n",
        "       (50076.13317, 'LSST_g', 15.318431053875358, 101.60671611928076, 35.33, 'ab'),\n",
        "       (50076.12388, 'LSST_r', 903.2370568249556, 125.63828766838303, 35.14, 'ab'),\n",
        "       (50076.15182, 'LSST_r', 1043.6944572902296, 127.17767499857742, 35.16, 'ab'),\n",
        "       (50076.11458, 'LSST_i', 1751.5596311551624, 177.73399413590167, 34.85, 'ab'),\n",
        "       (50076.14252, 'LSST_i', 1854.320244970669, 177.2750597426066, 34.85, 'ab'),\n",
        "       (50077.13317, 'LSST_g', 73.55965240925589, 101.09390650289366, 35.32, 'ab'),\n",
        "       (50077.17576, 'LSST_g', 166.3083625466497, 71.61327266582637, 34.55, 'ab'),\n",
        "       (50077.12388, 'LSST_r', 789.5815363421567, 125.71216820252181, 35.14, 'ab'),\n",
        "       (50077.16647, 'LSST_r', 758.6437297612421, 127.8149141934928, 35.16, 'ab'),\n",
        "       (50077.11458, 'LSST_i', 1631.893112306499, 178.3298373539607, 34.86, 'ab'),\n",
        "       (50077.15718, 'LSST_i', 1925.8785087562533, 177.92383999494746, 34.85, 'ab'),\n",
        "       (50077.14788, 'LSST_z', 1995.9964888362772, 195.55066128411846, 34.48, 'ab'),\n",
        "       (50077.14252, 'LSST_Y', 801.6556442633956, 173.05743265398146, 32.8, 'ab'),\n",
        "       (50078.13317, 'LSST_g', 134.97185999605244, 126.28234710074678, 35.34, 'ab'),\n",
        "       (50078.17576, 'LSST_g', 3.025865251862598, 71.92477112906231, 34.55, 'ab'),\n",
        "       (50078.12388, 'LSST_r', 868.518481351855, 137.63355119313036, 35.15, 'ab'),\n",
        "       (50078.16647, 'LSST_r', 859.7716313317165, 127.64492570087191, 35.16, 'ab'),\n",
        "       (50078.11458, 'LSST_i', 1829.8303530151302, 185.65768585141137, 34.86, 'ab'),\n",
        "       (50078.15718, 'LSST_i', 1663.2394527080526, 177.55981585741216, 34.84, 'ab'),\n",
        "       (50078.14788, 'LSST_z', 1546.9271207218894, 195.41946582105072, 34.48, 'ab'),\n",
        "       (50078.14252, 'LSST_Y', 812.0864074458226, 173.00249247482085, 32.8, 'ab'),\n",
        "       (50079.13317, 'LSST_g', 172.4259795215263, 142.4871289911454, 35.33, 'ab'),\n",
        "       (50079.12388, 'LSST_r', 744.7167496576196, 147.5014596404015, 35.15, 'ab'),\n",
        "       (50079.15182, 'LSST_r', 828.3173656541256, 146.53847707856482, 35.15, 'ab'),\n",
        "       (50079.11458, 'LSST_i', 1458.6930877279099, 190.70011325170955, 34.86, 'ab'),\n",
        "       (50079.14252, 'LSST_i', 1752.1763692179568, 191.05043329092985, 34.86, 'ab'),\n",
        "       (50080.13317, 'LSST_g', -192.630071007018, 165.11269803142002, 35.32, 'ab'),\n",
        "       (50080.12388, 'LSST_r', 701.3503095989375, 162.41608081180163, 35.16, 'ab'),\n",
        "       (50080.15182, 'LSST_r', 981.6810025072535, 160.71814478197248, 35.15, 'ab'),\n",
        "       (50080.11458, 'LSST_i', 2001.5937715215773, 199.5031594967631, 34.86, 'ab'),\n",
        "       (50080.14252, 'LSST_i', 1444.2399894466612, 199.50180719831488, 34.86, 'ab'),\n",
        "       (50081.13317, 'LSST_g', -227.9123619248829, 196.15809768888815, 35.35, 'ab'),\n",
        "       (50081.17576, 'LSST_g', 282.346140408915, 130.21800891797935, 34.57, 'ab'),\n",
        "       (50081.12388, 'LSST_r', 616.6882289283528, 178.87877902838028, 35.15, 'ab'),\n",
        "       (50081.16647, 'LSST_r', 554.1013654776118, 177.39540474029084, 35.15, 'ab'),\n",
        "       (50081.11458, 'LSST_i', 2077.4009749154, 209.75220454852075, 34.86, 'ab'),\n",
        "       (50081.15718, 'LSST_i', 1661.068636553025, 210.319671955556, 34.86, 'ab'),\n",
        "       (50081.14788, 'LSST_z', 2098.4800820030496, 219.41257214659305, 34.49, 'ab'),\n",
        "       (50081.14252, 'LSST_Y', 756.1764766677052, 174.58093699123364, 32.8, 'ab'),\n",
        "       (50082.13317, 'LSST_g', -198.2224545125439, 229.89683829605022, 35.35, 'ab'),\n",
        "       (50082.17576, 'LSST_g', -17.589653062028674, 155.172141839361, 34.56, 'ab'),\n",
        "       (50082.12388, 'LSST_r', 835.6362353621167, 200.48891943742777, 35.16, 'ab'),\n",
        "       (50082.16647, 'LSST_r', 572.8959865359049, 199.30098205347159, 35.15, 'ab'),\n",
        "       (50082.11458, 'LSST_i', 1136.4829334457509, 221.74787895061394, 34.86, 'ab'),\n",
        "       (50082.15718, 'LSST_i', 1322.596174873219, 222.72997418895787, 34.86, 'ab'),\n",
        "       (50082.14788, 'LSST_z', 1445.7979173781987, 225.93028807459098, 34.48, 'ab'),\n",
        "       (50082.14252, 'LSST_Y', 436.73705908173537, 173.13513492816625, 32.78, 'ab'),\n",
        "       (50083.13317, 'LSST_g', -368.2175642421556, 266.57991766908646, 35.33, 'ab'),\n",
        "       (50083.12388, 'LSST_r', 673.3650193532642, 223.75183387071414, 35.16, 'ab'),\n",
        "       (50083.15182, 'LSST_r', 820.5362545796361, 223.9493667255385, 35.16, 'ab'),\n",
        "       (50083.11458, 'LSST_i', 1689.699513296388, 235.38795675509007, 34.86, 'ab'),\n",
        "       (50083.14252, 'LSST_i', 1614.927051813432, 235.464828564998, 34.85, 'ab'),\n",
        "       (50084.13317, 'LSST_g', -6.545822748868986, 311.2000206105999, 35.34, 'ab'),\n",
        "       (50084.12388, 'LSST_r', 971.6647250840647, 250.14169456595536, 35.16, 'ab'),\n",
        "       (50084.15182, 'LSST_r', 622.9224721868826, 251.73144489110737, 35.16, 'ab'),\n",
        "       (50084.11458, 'LSST_i', 1807.5411418019944, 249.7780164582265, 34.86, 'ab'),\n",
        "       (50084.14252, 'LSST_i', 1630.8784308613658, 252.36346792968092, 34.87, 'ab')], \n",
        "      dtype=[('time', '<f8'), ('band', 'S6'), ('flux', '<f8'), ('fluxerr', '<f8'), ('zp', '<f8'), ('zpsys', 'S2')])"
       ]
      }
     ],
     "prompt_number": 14
    },
    {
     "cell_type": "code",
     "collapsed": true,
     "input": [
      "len(relevantdata[1])"
     ],
     "language": "python",
     "metadata": {},
     "outputs": [
      {
       "metadata": {},
       "output_type": "pyout",
       "prompt_number": 16,
       "text": [
        "500"
       ]
      }
     ],
     "prompt_number": 16
    },
    {
     "cell_type": "markdown",
     "metadata": {},
     "source": [
      "Write out to a file as this is how we will do things in a larger set by looping through, and then read in the file"
     ]
    },
    {
     "cell_type": "code",
     "collapsed": true,
     "input": [
      "model.set(**params[0])\n",
      "fig_relevant = sncosmo.plot_lc(relevantdata[0], model=model)"
     ],
     "language": "python",
     "metadata": {},
     "outputs": [
      {
       "metadata": {},
       "output_type": "display_data",
       "png": "[encoded data removed]",
       "text": [
        "<matplotlib.figure.Figure at 0x10ada4450>"
       ]
      }
     ],
     "prompt_number": 17
    },
    {
     "cell_type": "code",
     "collapsed": true,
     "input": [
      "sncosmo.write_lc(Table(relevantdata[0]), fname='lc.dat', format='ascii')"
     ],
     "language": "python",
     "metadata": {},
     "outputs": [],
     "prompt_number": 19
    },
    {
     "cell_type": "code",
     "collapsed": true,
     "input": [
      "lc = sncosmo.read_lc('lc.dat', format='ascii')"
     ],
     "language": "python",
     "metadata": {},
     "outputs": [],
     "prompt_number": 20
    },
    {
     "cell_type": "code",
     "collapsed": true,
     "input": [
      "fmodel = sncosmo.Model(source='salt2-extended')\n",
      "fmodel.set(z=0.7)\n",
      "res, fitmodel = sncosmo.fit_lc(lc, fmodel, ['t0', 'x0', 'x1', 'c']) "
     ],
     "language": "python",
     "metadata": {},
     "outputs": [],
     "prompt_number": 21
    },
    {
     "cell_type": "code",
     "collapsed": true,
     "input": [
      "print res"
     ],
     "language": "python",
     "metadata": {},
     "outputs": [
      {
       "output_type": "stream",
       "stream": "stdout",
       "text": [
        "       errors: OrderedDict([('t0', 0.020652591232646955), ('x0', 5.7685196053809324e-09), ('x1', 0.018544937330066576), ('c', 0.0018363741550147753)])\n",
        "   parameters: array([  7.00000000e-01,   5.00000091e+04,   2.90198516e-06,\n",
        "         3.30847624e-01,   2.35204104e-02])\n",
        "      success: True\n",
        "    cov_names: ['t0', 'x0', 'x1', 'c']\n",
        "   covariance: array([[  4.26529529e-04,  -3.33865176e-11,   9.90701166e-05,\n",
        "          4.62355662e-07],\n",
        "       [ -3.33865176e-11,   3.32758184e-17,  -7.98738169e-11,\n",
        "          1.39712214e-13],\n",
        "       [  9.90701166e-05,  -7.98738169e-11,   3.43914701e-04,\n",
        "          1.19359439e-05],\n",
        "       [  4.62355662e-07,   1.39712214e-13,   1.19359439e-05,\n",
        "          3.37227004e-06]])\n",
        "         ndof: 614\n",
        " vparam_names: ['t0', 'x0', 'x1', 'c']\n",
        "        chisq: 628.3707881111916\n",
        "  param_names: ['z', 't0', 'x0', 'x1', 'c']\n",
        "      message: 'Minimization exited successfully.'\n",
        "        ncall: 129\n"
       ]
      }
     ],
     "prompt_number": 22
    },
    {
     "cell_type": "code",
     "collapsed": false,
     "input": [
      "fmodel.set(z=0.7)\n",
      "res, fittedmodel = sncosmo.fit_lc(relevantdata[0], fmodel, ['t0', 'x0', 'x1', 'c'])"
     ],
     "language": "python",
     "metadata": {},
     "outputs": [],
     "prompt_number": 23
    },
    {
     "cell_type": "code",
     "collapsed": true,
     "input": [
      "print res"
     ],
     "language": "python",
     "metadata": {},
     "outputs": [
      {
       "output_type": "stream",
       "stream": "stdout",
       "text": [
        "       errors: OrderedDict([('t0', 0.020652591316320468), ('x0', 5.768519603437418e-09), ('x1', 0.018544937305972398), ('c', 0.001836374149065921)])\n",
        "   parameters: array([  7.00000000e-01,   5.00000091e+04,   2.90198516e-06,\n",
        "         3.30847624e-01,   2.35204104e-02])\n",
        "      success: True\n",
        "    cov_names: ['t0', 'x0', 'x1', 'c']\n",
        "   covariance: array([[  4.26529532e-04,  -3.33865178e-11,   9.90701169e-05,\n",
        "          4.62355523e-07],\n",
        "       [ -3.33865178e-11,   3.32758184e-17,  -7.98738169e-11,\n",
        "          1.39712248e-13],\n",
        "       [  9.90701169e-05,  -7.98738169e-11,   3.43914700e-04,\n",
        "          1.19359437e-05],\n",
        "       [  4.62355523e-07,   1.39712248e-13,   1.19359437e-05,\n",
        "          3.37227002e-06]])\n",
        "         ndof: 614\n",
        " vparam_names: ['t0', 'x0', 'x1', 'c']\n",
        "        chisq: 628.3707881123712\n",
        "  param_names: ['z', 't0', 'x0', 'x1', 'c']\n",
        "      message: 'Minimization exited successfully.'\n",
        "        ncall: 129\n"
       ]
      }
     ],
     "prompt_number": 24
    },
    {
     "cell_type": "code",
     "collapsed": false,
     "input": [],
     "language": "python",
     "metadata": {},
     "outputs": []
    }
   ],
   "metadata": {}
  }
 ]
}