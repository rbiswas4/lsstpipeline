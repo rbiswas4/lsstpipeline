{
 "metadata": {
  "name": "",
  "signature": "sha256:909258acea007b0703697a72ffe490c6ad8dbb0b0cbe8e2c2aa5021a31440bd3"
 },
 "nbformat": 3,
 "nbformat_minor": 0,
 "worksheets": [
  {
   "cells": [
    {
     "cell_type": "code",
     "collapsed": false,
     "input": [
      "run simulate_lsst.py"
     ],
     "language": "python",
     "metadata": {},
     "outputs": [],
     "prompt_number": 1
    },
    {
     "cell_type": "code",
     "collapsed": false,
     "input": [
      "simlibfilename"
     ],
     "language": "python",
     "metadata": {},
     "outputs": [
      {
       "metadata": {},
       "output_type": "pyout",
       "prompt_number": 2,
       "text": [
        "'cache/RBtest_opsim.simlib'"
       ]
      }
     ],
     "prompt_number": 2
    },
    {
     "cell_type": "code",
     "collapsed": false,
     "input": [
      "meta, obstables = sncosmo.read_snana_simlib(simlibfilename)"
     ],
     "language": "python",
     "metadata": {},
     "outputs": [],
     "prompt_number": 3
    },
    {
     "cell_type": "code",
     "collapsed": false,
     "input": [
      "minmjd = obstables[519]['MJD'].min()\n",
      "maxmjd = obstables[519]['MJD'].max()\n",
      "obstable = obstables[519]"
     ],
     "language": "python",
     "metadata": {},
     "outputs": [],
     "prompt_number": 4
    },
    {
     "cell_type": "code",
     "collapsed": false,
     "input": [
      "model = sncosmo.Model(source='salt2-extended')"
     ],
     "language": "python",
     "metadata": {},
     "outputs": [],
     "prompt_number": 5
    },
    {
     "cell_type": "code",
     "collapsed": false,
     "input": [
      "params = []\n",
      "for z in [0.3]:\n",
      "    mabs = normal(-19.3, 0.3)\n",
      "    model.set(z=z)\n",
      "    model.set_source_peakabsmag(mabs, 'bessellb', 'ab')\n",
      "    x0 = model.get('x0')\n",
      "    # RB: really should not be min, max but done like in catalogs\n",
      "    p = {'z':z, 't0':uniform(-minmjd, maxmjd), 'x0':x0, 'x1': normal(0., 1.), 'c': normal(0., 0.1)}\n",
      "    params.append(p)"
     ],
     "language": "python",
     "metadata": {},
     "outputs": [],
     "prompt_number": 31
    },
    {
     "cell_type": "code",
     "collapsed": false,
     "input": [
      "params[0]['t0']= 54900"
     ],
     "language": "python",
     "metadata": {},
     "outputs": [],
     "prompt_number": 34
    },
    {
     "cell_type": "code",
     "collapsed": false,
     "input": [
      "params"
     ],
     "language": "python",
     "metadata": {},
     "outputs": [
      {
       "metadata": {},
       "output_type": "pyout",
       "prompt_number": 35,
       "text": [
        "[{'c': 0.019331306142755036,\n",
        "  't0': 54900,\n",
        "  'x0': 4.7217181977568572e-05,\n",
        "  'x1': 0.40350867470110413,\n",
        "  'z': 0.3}]"
       ]
      }
     ],
     "prompt_number": 35
    },
    {
     "cell_type": "code",
     "collapsed": false,
     "input": [
      "col = Table.Column(obstable['SEARCH'].size*['ab'], name='zpsys')\n",
      "obstable['FLT'].name =  'band'\n",
      "obstable['MJD'].name =  'time'\n",
      "obstable['ZPTAVG'].name =  'zp'\n",
      "obstable['CCD_GAIN'].name =  'gain'\n",
      "obstable['SKYSIG'].name =  'skynoise'\n",
      "obstable.add_column(col)"
     ],
     "language": "python",
     "metadata": {},
     "outputs": [],
     "prompt_number": 8
    },
    {
     "cell_type": "code",
     "collapsed": false,
     "input": [
      "obstable"
     ],
     "language": "python",
     "metadata": {},
     "outputs": [
      {
       "html": [
        "<table id=\"table4390750032\"><thead><tr><th>SEARCH</th><th>time</th><th>IDEXPT</th><th>band</th><th>gain</th><th>CCD_NOISE</th><th>skynoise</th><th>PSF1</th><th>PSF2</th><th>PSFRATIO</th><th>zp</th><th>ZPTSIG</th><th>MAG</th><th>zpsys</th></tr></thead><tr><td>True</td><td>49353.13317</td><td>10519</td><td>g</td><td>1.0</td><td>0.25</td><td>260.07</td><td>2.13</td><td>0.0</td><td>0.0</td><td>35.34</td><td>0.005</td><td>-99.0</td><td>ab</td></tr><tr><td>True</td><td>49353.17576</td><td>10519</td><td>g</td><td>1.0</td><td>0.25</td><td>197.0</td><td>2.1</td><td>0.0</td><td>0.0</td><td>34.57</td><td>0.005</td><td>-99.0</td><td>ab</td></tr><tr><td>True</td><td>49353.12388</td><td>10519</td><td>r</td><td>1.0</td><td>0.25</td><td>218.39</td><td>1.97</td><td>0.0</td><td>0.0</td><td>35.17</td><td>0.005</td><td>-99.0</td><td>ab</td></tr><tr><td>True</td><td>49353.16647</td><td>10519</td><td>r</td><td>1.0</td><td>0.25</td><td>226.03</td><td>2.28</td><td>0.0</td><td>0.0</td><td>35.16</td><td>0.005</td><td>-99.0</td><td>ab</td></tr><tr><td>True</td><td>49353.11458</td><td>10519</td><td>i</td><td>1.0</td><td>0.25</td><td>226.96</td><td>1.71</td><td>0.0</td><td>0.0</td><td>34.85</td><td>0.005</td><td>-99.0</td><td>ab</td></tr><tr><td>True</td><td>49353.15718</td><td>10519</td><td>i</td><td>1.0</td><td>0.25</td><td>233.05</td><td>2.44</td><td>0.0</td><td>0.0</td><td>34.86</td><td>0.005</td><td>-99.0</td><td>ab</td></tr><tr><td>True</td><td>49353.14788</td><td>10519</td><td>z</td><td>1.0</td><td>0.25</td><td>226.19</td><td>1.99</td><td>0.0</td><td>0.0</td><td>34.47</td><td>0.005</td><td>-99.0</td><td>ab</td></tr><tr><td>True</td><td>49353.14252</td><td>10519</td><td>Y</td><td>1.0</td><td>0.25</td><td>173.13</td><td>1.88</td><td>0.0</td><td>0.0</td><td>32.8</td><td>0.005</td><td>-99.0</td><td>ab</td></tr><tr><td>True</td><td>49354.13317</td><td>10519</td><td>g</td><td>1.0</td><td>0.25</td><td>207.56</td><td>1.89</td><td>0.0</td><td>0.0</td><td>35.33</td><td>0.005</td><td>-99.0</td><td>ab</td></tr><tr><td>True</td><td>49354.17576</td><td>10519</td><td>g</td><td>1.0</td><td>0.25</td><td>162.93</td><td>2.07</td><td>0.0</td><td>0.0</td><td>34.56</td><td>0.005</td><td>-99.0</td><td>ab</td></tr><tr><td>True</td><td>49354.12388</td><td>10519</td><td>r</td><td>1.0</td><td>0.25</td><td>187.94</td><td>1.73</td><td>0.0</td><td>0.0</td><td>35.16</td><td>0.005</td><td>-99.0</td><td>ab</td></tr><tr><td>...</td><td>...</td><td>...</td><td>...</td><td>...</td><td>...</td><td>...</td><td>...</td><td>...</td><td>...</td><td>...</td><td>...</td><td>...</td><td>...</td></tr><tr><td>True</td><td>54824.12388</td><td>10519</td><td>r</td><td>1.0</td><td>0.25</td><td>123.25</td><td>1.2</td><td>0.0</td><td>0.0</td><td>35.16</td><td>0.005</td><td>-99.0</td><td>ab</td></tr><tr><td>True</td><td>54824.11458</td><td>10519</td><td>i</td><td>1.0</td><td>0.25</td><td>172.45</td><td>1.19</td><td>0.0</td><td>0.0</td><td>34.85</td><td>0.005</td><td>-99.0</td><td>ab</td></tr><tr><td>True</td><td>54825.13317</td><td>10519</td><td>g</td><td>1.0</td><td>0.25</td><td>100.79</td><td>1.78</td><td>0.0</td><td>0.0</td><td>35.32</td><td>0.005</td><td>-99.0</td><td>ab</td></tr><tr><td>True</td><td>54825.12388</td><td>10519</td><td>r</td><td>1.0</td><td>0.25</td><td>122.55</td><td>1.87</td><td>0.0</td><td>0.0</td><td>35.15</td><td>0.005</td><td>-99.0</td><td>ab</td></tr><tr><td>True</td><td>54825.11458</td><td>10519</td><td>i</td><td>1.0</td><td>0.25</td><td>172.69</td><td>1.74</td><td>0.0</td><td>0.0</td><td>34.85</td><td>0.005</td><td>-99.0</td><td>ab</td></tr><tr><td>True</td><td>54826.13317</td><td>10519</td><td>g</td><td>1.0</td><td>0.25</td><td>100.58</td><td>1.79</td><td>0.0</td><td>0.0</td><td>35.32</td><td>0.005</td><td>-99.0</td><td>ab</td></tr><tr><td>True</td><td>54826.12388</td><td>10519</td><td>r</td><td>1.0</td><td>0.25</td><td>122.85</td><td>1.76</td><td>0.0</td><td>0.0</td><td>35.15</td><td>0.005</td><td>-99.0</td><td>ab</td></tr><tr><td>True</td><td>54826.11458</td><td>10519</td><td>i</td><td>1.0</td><td>0.25</td><td>173.61</td><td>1.43</td><td>0.0</td><td>0.0</td><td>34.86</td><td>0.005</td><td>-99.0</td><td>ab</td></tr><tr><td>True</td><td>54827.13317</td><td>10519</td><td>g</td><td>1.0</td><td>0.25</td><td>100.58</td><td>1.33</td><td>0.0</td><td>0.0</td><td>35.32</td><td>0.005</td><td>-99.0</td><td>ab</td></tr><tr><td>True</td><td>54827.12388</td><td>10519</td><td>r</td><td>1.0</td><td>0.25</td><td>122.56</td><td>1.2</td><td>0.0</td><td>0.0</td><td>35.15</td><td>0.005</td><td>-99.0</td><td>ab</td></tr><tr><td>True</td><td>54827.11458</td><td>10519</td><td>i</td><td>1.0</td><td>0.25</td><td>173.34</td><td>1.1</td><td>0.0</td><td>0.0</td><td>34.86</td><td>0.005</td><td>-99.0</td><td>ab</td></tr></table>"
       ],
       "metadata": {},
       "output_type": "pyout",
       "prompt_number": 9,
       "text": [
        "<Table rows=18279 names=('SEARCH','time','IDEXPT','band','gain','CCD_NOISE','skynoise','PSF1','PSF2','PSFRATIO','zp','ZPTSIG','MAG','zpsys')>\n",
        "array([ (True, 49353.13317, 10519, 'g', 1.0, 0.25, 260.07, 2.13, 0.0, 0.0, 35.34, 0.005, -99.0, 'ab'),\n",
        "       (True, 49353.17576, 10519, 'g', 1.0, 0.25, 197.0, 2.1, 0.0, 0.0, 34.57, 0.005, -99.0, 'ab'),\n",
        "       (True, 49353.12388, 10519, 'r', 1.0, 0.25, 218.39, 1.97, 0.0, 0.0, 35.17, 0.005, -99.0, 'ab'),\n",
        "       ...,\n",
        "       (True, 54827.13317, 10519, 'g', 1.0, 0.25, 100.58, 1.33, 0.0, 0.0, 35.32, 0.005, -99.0, 'ab'),\n",
        "       (True, 54827.12388, 10519, 'r', 1.0, 0.25, 122.56, 1.2, 0.0, 0.0, 35.15, 0.005, -99.0, 'ab'),\n",
        "       (True, 54827.11458, 10519, 'i', 1.0, 0.25, 173.34, 1.1, 0.0, 0.0, 34.86, 0.005, -99.0, 'ab')], \n",
        "      dtype=[('SEARCH', '?'), ('time', '<f8'), ('IDEXPT', '<i8'), ('band', 'S1'), ('gain', '<f8'), ('CCD_NOISE', '<f8'), ('skynoise', '<f8'), ('PSF1', '<f8'), ('PSF2', '<f8'), ('PSFRATIO', '<f8'), ('zp', '<f8'), ('ZPTSIG', '<f8'), ('MAG', '<f8'), ('zpsys', 'S2')])"
       ]
      }
     ],
     "prompt_number": 9
    },
    {
     "cell_type": "code",
     "collapsed": false,
     "input": [
      "%timeit data = sncosmo.realize_lcs(obstable, model, params)"
     ],
     "language": "python",
     "metadata": {},
     "outputs": [
      {
       "output_type": "stream",
       "stream": "stdout",
       "text": [
        "1 loops, best of 3: 11.7 s per loop\n"
       ]
      }
     ],
     "prompt_number": 10
    },
    {
     "cell_type": "code",
     "collapsed": false,
     "input": [
      "data = sncosmo.realize_lcs(obstable, model, params)"
     ],
     "language": "python",
     "metadata": {},
     "outputs": [],
     "prompt_number": 36
    },
    {
     "cell_type": "code",
     "collapsed": false,
     "input": [
      "dataskip = sncosmo.realize_lcs(obstable, model, params, thresh=1)"
     ],
     "language": "python",
     "metadata": {},
     "outputs": [],
     "prompt_number": 12
    },
    {
     "cell_type": "code",
     "collapsed": false,
     "input": [
      "%timeit dataskip = sncosmo.realize_lcs(obstable, model, params, thresh=1)"
     ],
     "language": "python",
     "metadata": {},
     "outputs": [
      {
       "output_type": "stream",
       "stream": "stdout",
       "text": [
        "1 loops, best of 3: 11.7 s per loop\n"
       ]
      }
     ],
     "prompt_number": 13
    },
    {
     "cell_type": "code",
     "collapsed": false,
     "input": [
      "obstable['zpsys']"
     ],
     "language": "python",
     "metadata": {},
     "outputs": [
      {
       "metadata": {},
       "output_type": "pyout",
       "prompt_number": 14,
       "text": [
        "<Column name='zpsys' unit=None format=None description=None>\n",
        "array(['ab', 'ab', 'ab', ..., 'ab', 'ab', 'ab'], \n",
        "      dtype='|S2')"
       ]
      }
     ],
     "prompt_number": 14
    },
    {
     "cell_type": "code",
     "collapsed": false,
     "input": [
      "sncosmo.get_bandpass('g').wave"
     ],
     "language": "python",
     "metadata": {},
     "outputs": [
      {
       "metadata": {},
       "output_type": "pyout",
       "prompt_number": 15,
       "text": [
        "array([  3000.,   3001.,   3002., ...,  11998.,  11999.,  12000.])"
       ]
      }
     ],
     "prompt_number": 15
    },
    {
     "cell_type": "code",
     "collapsed": false,
     "input": [
      "sncosmo.plot_lc(data[0])"
     ],
     "language": "python",
     "metadata": {},
     "outputs": [
      {
       "metadata": {},
       "output_type": "pyout",
       "prompt_number": 27,
       "text": [
        "<matplotlib.figure.Figure at 0x108c3bf90>"
       ]
      }
     ],
     "prompt_number": 27
    },
    {
     "cell_type": "code",
     "collapsed": false,
     "input": [
      "%matplotlib inline"
     ],
     "language": "python",
     "metadata": {},
     "outputs": [],
     "prompt_number": 28
    },
    {
     "cell_type": "code",
     "collapsed": false,
     "input": [
      "a = fig.gca()\n",
      "a.set_xlim(54870,54920)"
     ],
     "language": "python",
     "metadata": {},
     "outputs": [
      {
       "metadata": {},
       "output_type": "pyout",
       "prompt_number": 41,
       "text": [
        "(54870, 54920)"
       ]
      }
     ],
     "prompt_number": 41
    },
    {
     "cell_type": "code",
     "collapsed": false,
     "input": [
      "fig.axes.set_xlim(54870, 54920)"
     ],
     "language": "python",
     "metadata": {},
     "outputs": [
      {
       "ename": "AttributeError",
       "evalue": "'list' object has no attribute 'set_xlim'",
       "output_type": "pyerr",
       "traceback": [
        "\u001b[0;31m---------------------------------------------------------------------------\u001b[0m\n\u001b[0;31mAttributeError\u001b[0m                            Traceback (most recent call last)",
        "\u001b[0;32m<ipython-input-44-595150d4dac0>\u001b[0m in \u001b[0;36m<module>\u001b[0;34m()\u001b[0m\n\u001b[0;32m----> 1\u001b[0;31m \u001b[0mfig\u001b[0m\u001b[0;34m.\u001b[0m\u001b[0maxes\u001b[0m\u001b[0;34m.\u001b[0m\u001b[0mset_xlim\u001b[0m\u001b[0;34m(\u001b[0m\u001b[0;36m54870\u001b[0m\u001b[0;34m,\u001b[0m \u001b[0;36m54920\u001b[0m\u001b[0;34m)\u001b[0m\u001b[0;34m\u001b[0m\u001b[0m\n\u001b[0m",
        "\u001b[0;31mAttributeError\u001b[0m: 'list' object has no attribute 'set_xlim'"
       ]
      }
     ],
     "prompt_number": 44
    },
    {
     "cell_type": "code",
     "collapsed": false,
     "input": [
      "fig = sncosmo.plot_lc(data[0])\n",
      "# plt.xlim(54870,54920)"
     ],
     "language": "python",
     "metadata": {},
     "outputs": [
      {
       "metadata": {},
       "output_type": "display_data",
       "png": "[encoded data removed]",
       "text": [
        "<matplotlib.figure.Figure at 0x111fbef90>"
       ]
      }
     ],
     "prompt_number": 39
    },
    {
     "cell_type": "code",
     "collapsed": false,
     "input": [
      "sncosmo.plot_lc(dataskip[0])"
     ],
     "language": "python",
     "metadata": {},
     "outputs": []
    },
    {
     "cell_type": "code",
     "collapsed": false,
     "input": [
      "min(data[0]['flux']/data[0]['fluxerr'])"
     ],
     "language": "python",
     "metadata": {},
     "outputs": []
    },
    {
     "cell_type": "code",
     "collapsed": false,
     "input": [
      "snr = (data[0]['flux'] - data[0]['flux'].min())/data[0]['fluxerr']"
     ],
     "language": "python",
     "metadata": {},
     "outputs": []
    },
    {
     "cell_type": "code",
     "collapsed": false,
     "input": [
      "data[0]['flux'].mean()"
     ],
     "language": "python",
     "metadata": {},
     "outputs": []
    },
    {
     "cell_type": "code",
     "collapsed": false,
     "input": [
      "snr.min()"
     ],
     "language": "python",
     "metadata": {},
     "outputs": []
    },
    {
     "cell_type": "code",
     "collapsed": false,
     "input": [
      "snr.mean()"
     ],
     "language": "python",
     "metadata": {},
     "outputs": []
    },
    {
     "cell_type": "code",
     "collapsed": false,
     "input": [
      "model.get('t0')"
     ],
     "language": "python",
     "metadata": {},
     "outputs": [
      {
       "metadata": {},
       "output_type": "pyout",
       "prompt_number": 17,
       "text": [
        "2287.1908834675196"
       ]
      }
     ],
     "prompt_number": 17
    },
    {
     "cell_type": "code",
     "collapsed": false,
     "input": [
      "diff= (data[0]['time']-model.get('t0'))"
     ],
     "language": "python",
     "metadata": {},
     "outputs": [],
     "prompt_number": 22
    },
    {
     "cell_type": "code",
     "collapsed": false,
     "input": [
      "diff.max()"
     ],
     "language": "python",
     "metadata": {},
     "outputs": [
      {
       "metadata": {},
       "output_type": "pyout",
       "prompt_number": 24,
       "text": [
        "52539.942286532481"
       ]
      }
     ],
     "prompt_number": 24
    },
    {
     "cell_type": "code",
     "collapsed": false,
     "input": [
      "model.set(t0=54900.)"
     ],
     "language": "python",
     "metadata": {},
     "outputs": [],
     "prompt_number": 25
    },
    {
     "cell_type": "code",
     "collapsed": false,
     "input": [
      "plt.plot(data[0]['time']"
     ],
     "language": "python",
     "metadata": {},
     "outputs": []
    }
   ],
   "metadata": {}
  }
 ]
}