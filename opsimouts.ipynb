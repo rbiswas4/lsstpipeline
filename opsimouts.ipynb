{
 "metadata": {
  "name": "",
  "signature": "sha256:a9a80e5addccfcd0a6fe5d74e665c51a1e1710bf12af0120f38ada8df05c7103"
 },
 "nbformat": 3,
 "nbformat_minor": 0,
 "worksheets": [
  {
   "cells": [
    {
     "cell_type": "code",
     "collapsed": false,
     "input": [
      "import sqlite3\n",
      "import pandas as pd"
     ],
     "language": "python",
     "metadata": {},
     "outputs": [],
     "prompt_number": 1
    },
    {
     "cell_type": "code",
     "collapsed": false,
     "input": [
      "fname = 'opsimblitz2_1018_sqlite.db'"
     ],
     "language": "python",
     "metadata": {},
     "outputs": [],
     "prompt_number": 2
    },
    {
     "cell_type": "code",
     "collapsed": false,
     "input": [
      "conn = sqlite3.connect(fname)\n",
      "cursor = conn.cursor()"
     ],
     "language": "python",
     "metadata": {},
     "outputs": [],
     "prompt_number": 3
    },
    {
     "cell_type": "heading",
     "level": 2,
     "metadata": {},
     "source": [
      "Find the names of the tables"
     ]
    },
    {
     "cell_type": "code",
     "collapsed": false,
     "input": [
      "print cursor.description"
     ],
     "language": "python",
     "metadata": {},
     "outputs": [
      {
       "output_type": "stream",
       "stream": "stdout",
       "text": [
        "None\n"
       ]
      }
     ],
     "prompt_number": 4
    },
    {
     "cell_type": "code",
     "collapsed": false,
     "input": [
      "cursor.execute('SELECT name FROM sqlite_master WHERE TYPE = \"table\"')\n",
      "print cursor.fetchall()"
     ],
     "language": "python",
     "metadata": {},
     "outputs": [
      {
       "output_type": "stream",
       "stream": "stdout",
       "text": [
        "[(u'Session',), (u'Config',), (u'Field',), (u'ObsHistory',), (u'Proposal',), (u'SeqHistory',), (u'SlewHistory',), (u'SlewActivities',), (u'SlewState',), (u'SlewMaxSpeeds',), (u'TimeHistory',), (u'ObsHistory_Proposal',), (u'Cloud',), (u'Seeing',), (u'Log',), (u'Config_File',), (u'Proposal_Field',), (u'SeqHistory_ObsHistory',), (u'MissedHistory',), (u'SeqHistory_MissedHistory',), (u'Summary',)]\n"
       ]
      }
     ],
     "prompt_number": 5
    },
    {
     "cell_type": "code",
     "collapsed": false,
     "input": [
      "print cursor.description"
     ],
     "language": "python",
     "metadata": {},
     "outputs": [
      {
       "output_type": "stream",
       "stream": "stdout",
       "text": [
        "(('name', None, None, None, None, None, None),)\n"
       ]
      }
     ],
     "prompt_number": 6
    },
    {
     "cell_type": "heading",
     "level": 2,
     "metadata": {},
     "source": [
      "Find names of Columns"
     ]
    },
    {
     "cell_type": "code",
     "collapsed": false,
     "input": [
      "names = list(map(lambda x: x[0], cursor.description))\n",
      "print names"
     ],
     "language": "python",
     "metadata": {},
     "outputs": [
      {
       "output_type": "stream",
       "stream": "stdout",
       "text": [
        "['name']\n"
       ]
      }
     ],
     "prompt_number": 7
    },
    {
     "cell_type": "code",
     "collapsed": false,
     "input": [
      "cursor.execute('SELECT expMJD FROM ObsHistory')"
     ],
     "language": "python",
     "metadata": {},
     "outputs": [
      {
       "metadata": {},
       "output_type": "pyout",
       "prompt_number": 8,
       "text": [
        "<sqlite3.Cursor at 0x106c0e9d0>"
       ]
      }
     ],
     "prompt_number": 8
    },
    {
     "cell_type": "code",
     "collapsed": false,
     "input": [
      "cursor.fetchone()"
     ],
     "language": "python",
     "metadata": {},
     "outputs": [
      {
       "metadata": {},
       "output_type": "pyout",
       "prompt_number": 9,
       "text": [
        "(49353.032079,)"
       ]
      }
     ],
     "prompt_number": 9
    },
    {
     "cell_type": "code",
     "collapsed": false,
     "input": [
      "cursor.execute('SELECT expMJD, filter, ditheredRA, ditheredDec, Field_fieldID FROM ObsHistory')"
     ],
     "language": "python",
     "metadata": {},
     "outputs": [
      {
       "metadata": {},
       "output_type": "pyout",
       "prompt_number": 10,
       "text": [
        "<sqlite3.Cursor at 0x106c0e9d0>"
       ]
      }
     ],
     "prompt_number": 10
    },
    {
     "cell_type": "code",
     "collapsed": false,
     "input": [
      "df = pd.read_sql_query('SELECT expMJD, filter, ditheredRA, ditheredDec, Field_fieldID FROM ObsHistory', conn)"
     ],
     "language": "python",
     "metadata": {},
     "outputs": [],
     "prompt_number": 11
    },
    {
     "cell_type": "code",
     "collapsed": false,
     "input": [
      "df.describe()"
     ],
     "language": "python",
     "metadata": {},
     "outputs": [
      {
       "html": [
        "<div style=\"max-height:1000px;max-width:1500px;overflow:auto;\">\n",
        "<table border=\"1\" class=\"dataframe\">\n",
        "  <thead>\n",
        "    <tr style=\"text-align: right;\">\n",
        "      <th></th>\n",
        "      <th>expMJD</th>\n",
        "      <th>ditheredRA</th>\n",
        "      <th>ditheredDec</th>\n",
        "      <th>Field_fieldID</th>\n",
        "    </tr>\n",
        "  </thead>\n",
        "  <tbody>\n",
        "    <tr>\n",
        "      <th>count</th>\n",
        "      <td> 2501604.000000</td>\n",
        "      <td> 2501604.000000</td>\n",
        "      <td> 2501604.000000</td>\n",
        "      <td> 2501604.000000</td>\n",
        "    </tr>\n",
        "    <tr>\n",
        "      <th>mean</th>\n",
        "      <td>   51160.886682</td>\n",
        "      <td>       2.844960</td>\n",
        "      <td>      -0.347418</td>\n",
        "      <td>    1846.814626</td>\n",
        "    </tr>\n",
        "    <tr>\n",
        "      <th>std</th>\n",
        "      <td>    1052.419489</td>\n",
        "      <td>       1.816481</td>\n",
        "      <td>       0.458076</td>\n",
        "      <td>    1034.457467</td>\n",
        "    </tr>\n",
        "    <tr>\n",
        "      <th>min</th>\n",
        "      <td>   49353.032079</td>\n",
        "      <td>       0.000000</td>\n",
        "      <td>      -1.567490</td>\n",
        "      <td>       1.000000</td>\n",
        "    </tr>\n",
        "    <tr>\n",
        "      <th>25%</th>\n",
        "      <td>   50272.374793</td>\n",
        "      <td>       1.267045</td>\n",
        "      <td>      -0.665519</td>\n",
        "      <td>    1013.000000</td>\n",
        "    </tr>\n",
        "    <tr>\n",
        "      <th>50%</th>\n",
        "      <td>   51166.135252</td>\n",
        "      <td>       2.539398</td>\n",
        "      <td>      -0.318449</td>\n",
        "      <td>    1807.000000</td>\n",
        "    </tr>\n",
        "    <tr>\n",
        "      <th>75%</th>\n",
        "      <td>   52063.305750</td>\n",
        "      <td>       4.285907</td>\n",
        "      <td>       0.005515</td>\n",
        "      <td>    2661.000000</td>\n",
        "    </tr>\n",
        "    <tr>\n",
        "      <th>max</th>\n",
        "      <td>   53002.362971</td>\n",
        "      <td>       6.283000</td>\n",
        "      <td>       0.654191</td>\n",
        "      <td>    4203.000000</td>\n",
        "    </tr>\n",
        "  </tbody>\n",
        "</table>\n",
        "</div>"
       ],
       "metadata": {},
       "output_type": "pyout",
       "prompt_number": 12,
       "text": [
        "               expMJD      ditheredRA     ditheredDec   Field_fieldID\n",
        "count  2501604.000000  2501604.000000  2501604.000000  2501604.000000\n",
        "mean     51160.886682        2.844960       -0.347418     1846.814626\n",
        "std       1052.419489        1.816481        0.458076     1034.457467\n",
        "min      49353.032079        0.000000       -1.567490        1.000000\n",
        "25%      50272.374793        1.267045       -0.665519     1013.000000\n",
        "50%      51166.135252        2.539398       -0.318449     1807.000000\n",
        "75%      52063.305750        4.285907        0.005515     2661.000000\n",
        "max      53002.362971        6.283000        0.654191     4203.000000"
       ]
      }
     ],
     "prompt_number": 12
    },
    {
     "cell_type": "code",
     "collapsed": false,
     "input": [
      "df.hist([['ditheredRA'],['ditheredDec]])"
     ],
     "language": "python",
     "metadata": {},
     "outputs": [
      {
       "ename": "SyntaxError",
       "evalue": "EOL while scanning string literal (<ipython-input-124-9d0d7ec83f5c>, line 1)",
       "output_type": "pyerr",
       "traceback": [
        "\u001b[0;36m  File \u001b[0;32m\"<ipython-input-124-9d0d7ec83f5c>\"\u001b[0;36m, line \u001b[0;32m1\u001b[0m\n\u001b[0;31m    df.hist([['ditheredRA'],['ditheredDec]])\u001b[0m\n\u001b[0m                                           ^\u001b[0m\n\u001b[0;31mSyntaxError\u001b[0m\u001b[0;31m:\u001b[0m EOL while scanning string literal\n"
       ]
      }
     ],
     "prompt_number": 124
    },
    {
     "cell_type": "code",
     "collapsed": false,
     "input": [
      "grouped = df.groupby('Field_fieldID')"
     ],
     "language": "python",
     "metadata": {},
     "outputs": [],
     "prompt_number": 125
    },
    {
     "cell_type": "code",
     "collapsed": false,
     "input": [
      "len(grouped.groups.keys())"
     ],
     "language": "python",
     "metadata": {},
     "outputs": [
      {
       "metadata": {},
       "output_type": "pyout",
       "prompt_number": 127,
       "text": [
        "3665"
       ]
      }
     ],
     "prompt_number": 127
    },
    {
     "cell_type": "code",
     "collapsed": false,
     "input": [
      "fieldids = grouped.groups.keys()"
     ],
     "language": "python",
     "metadata": {},
     "outputs": [],
     "prompt_number": 133
    },
    {
     "cell_type": "code",
     "collapsed": false,
     "input": [
      "l =[]\n",
      "for i, fieldid in enumerate(fieldids):\n",
      "    l.append([int(fieldid), len(grouped.groups[fieldid])])\n",
      "fdata = np.array(l)"
     ],
     "language": "python",
     "metadata": {},
     "outputs": [],
     "prompt_number": 139
    },
    {
     "cell_type": "code",
     "collapsed": false,
     "input": [
      "fdata.sort(axis=-1, order='descending'\n",
      "           )"
     ],
     "language": "python",
     "metadata": {},
     "outputs": [
      {
       "ename": "ValueError",
       "evalue": "Cannot specify order when the array has no fields.",
       "output_type": "pyerr",
       "traceback": [
        "\u001b[0;31m---------------------------------------------------------------------------\u001b[0m\n\u001b[0;31mValueError\u001b[0m                                Traceback (most recent call last)",
        "\u001b[0;32m<ipython-input-142-771b859fe613>\u001b[0m in \u001b[0;36m<module>\u001b[0;34m()\u001b[0m\n\u001b[0;32m----> 1\u001b[0;31m fdata.sort(axis=-1, order='descending'\n\u001b[0m\u001b[1;32m      2\u001b[0m            )\n",
        "\u001b[0;31mValueError\u001b[0m: Cannot specify order when the array has no fields."
       ]
      }
     ],
     "prompt_number": 142
    },
    {
     "cell_type": "code",
     "collapsed": false,
     "input": [
      "fdata[-20:,:]"
     ],
     "language": "python",
     "metadata": {},
     "outputs": [
      {
       "metadata": {},
       "output_type": "pyout",
       "prompt_number": 151,
       "text": [
        "array([[ 760, 3977],\n",
        "       [ 760, 3979],\n",
        "       [ 760, 3989],\n",
        "       [ 760, 4001],\n",
        "       [ 760, 4003],\n",
        "       [ 760, 4009],\n",
        "       [ 760, 4019],\n",
        "       [ 760, 4023],\n",
        "       [ 760, 4037],\n",
        "       [ 760, 4039],\n",
        "       [ 760, 4049],\n",
        "       [ 760, 4051],\n",
        "       [ 760, 4053],\n",
        "       [ 760, 4060],\n",
        "       [ 120, 4071],\n",
        "       [ 760, 4074],\n",
        "       [ 660, 4082],\n",
        "       [ 120, 4085],\n",
        "       [ 120, 4181],\n",
        "       [ 120, 4203]])"
       ]
      }
     ],
     "prompt_number": 151
    },
    {
     "cell_type": "markdown",
     "metadata": {},
     "source": [
      "type(times)"
     ]
    },
    {
     "cell_type": "code",
     "collapsed": false,
     "input": [
      "help(zip)"
     ],
     "language": "python",
     "metadata": {},
     "outputs": [
      {
       "output_type": "stream",
       "stream": "stdout",
       "text": [
        "Help on built-in function zip in module __builtin__:\n",
        "\n",
        "zip(...)\n",
        "    zip(seq1 [, seq2 [...]]) -> [(seq1[0], seq2[0] ...), (...)]\n",
        "    \n",
        "    Return a list of tuples, where each tuple contains the i-th element\n",
        "    from each of the argument sequences.  The returned list is truncated\n",
        "    in length to the length of the shortest argument sequence.\n",
        "\n"
       ]
      }
     ],
     "prompt_number": 138
    },
    {
     "cell_type": "code",
     "collapsed": false,
     "input": [
      "new  = map(lambda x: list(x), times)"
     ],
     "language": "python",
     "metadata": {},
     "outputs": [],
     "prompt_number": 64
    },
    {
     "cell_type": "code",
     "collapsed": false,
     "input": [
      "pd.read_sql"
     ],
     "language": "python",
     "metadata": {},
     "outputs": [
      {
       "metadata": {},
       "output_type": "pyout",
       "prompt_number": 60,
       "text": [
        "float"
       ]
      }
     ],
     "prompt_number": 60
    },
    {
     "cell_type": "code",
     "collapsed": false,
     "input": [
      "times = cursor.fetchall()"
     ],
     "language": "python",
     "metadata": {},
     "outputs": [],
     "prompt_number": 62
    },
    {
     "cell_type": "code",
     "collapsed": false,
     "input": [
      "len(times)"
     ],
     "language": "python",
     "metadata": {},
     "outputs": [
      {
       "metadata": {},
       "output_type": "pyout",
       "prompt_number": 63,
       "text": [
        "2501604"
       ]
      }
     ],
     "prompt_number": 63
    },
    {
     "cell_type": "code",
     "collapsed": false,
     "input": [
      "%matplotlib inline\n",
      "import matplotlib.pyplot as plt\n",
      "import numpy as np"
     ],
     "language": "python",
     "metadata": {},
     "outputs": [],
     "prompt_number": 65
    },
    {
     "cell_type": "code",
     "collapsed": false,
     "input": [
      "dates = np.array(new)"
     ],
     "language": "python",
     "metadata": {},
     "outputs": [],
     "prompt_number": 66
    },
    {
     "cell_type": "code",
     "collapsed": false,
     "input": [
      "mjds  = map(float, dates[:,0])"
     ],
     "language": "python",
     "metadata": {},
     "outputs": [],
     "prompt_number": 70
    },
    {
     "cell_type": "code",
     "collapsed": false,
     "input": [
      "plt.hist(mjds, histtype='step', bins=np.arange(mjdmin,mjdmin+365., 30.))"
     ],
     "language": "python",
     "metadata": {},
     "outputs": [
      {
       "metadata": {},
       "output_type": "pyout",
       "prompt_number": 84,
       "text": [
        "(array([ 19467.,  23400.,  20773.,  25954.,  27483.,  20364.,  26389.,\n",
        "         23737.,  19679.,  20931.,  22492.,  20741.]),\n",
        " array([ 49353.032079,  49383.032079,  49413.032079,  49443.032079,\n",
        "         49473.032079,  49503.032079,  49533.032079,  49563.032079,\n",
        "         49593.032079,  49623.032079,  49653.032079,  49683.032079,\n",
        "         49713.032079]),\n",
        " <a list of 1 Patch objects>)"
       ]
      },
      {
       "metadata": {},
       "output_type": "display_data",
       "png": "[encoded data removed]",
       "text": [
        "<matplotlib.figure.Figure at 0x173a18f90>"
       ]
      }
     ],
     "prompt_number": 84
    },
    {
     "cell_type": "code",
     "collapsed": false,
     "input": [
      "mjdmin = min(mjds)\n",
      "mjdmax = max(mjds)\n",
      "bins = lambda steps: np.arange(mjdmin, mjdmax, steps)"
     ],
     "language": "python",
     "metadata": {},
     "outputs": [],
     "prompt_number": 78
    },
    {
     "cell_type": "code",
     "collapsed": false,
     "input": [
      "bins(365)"
     ],
     "language": "python",
     "metadata": {},
     "outputs": [
      {
       "metadata": {},
       "output_type": "pyout",
       "prompt_number": 79,
       "text": [
        "array([ 49353.032079,  49718.032079,  50083.032079,  50448.032079,\n",
        "        50813.032079,  51178.032079,  51543.032079,  51908.032079,\n",
        "        52273.032079,  52638.032079])"
       ]
      }
     ],
     "prompt_number": 79
    },
    {
     "cell_type": "code",
     "collapsed": false,
     "input": [
      "cursor.execute('SELECT expMJD, filter, dither"
     ],
     "language": "python",
     "metadata": {},
     "outputs": []
    }
   ],
   "metadata": {}
  }
 ]
}